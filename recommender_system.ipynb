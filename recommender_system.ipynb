{
 "cells": [
  {
   "cell_type": "code",
   "execution_count": 1,
   "metadata": {},
   "outputs": [],
   "source": [
    "import gzip\n",
    "import json\n",
    "\n",
    "import numpy as np\n",
    "import pandas as pd\n",
    "\n",
    "from sklearn.model_selection import train_test_split\n",
    "from sklearn.metrics import mean_squared_error\n",
    "from  sklearn.metrics.pairwise import pairwise_distances\n",
    "\n",
    "from math import sqrt\n",
    "\n",
    "\n",
    "\n",
    "def parse(path):\n",
    "  g = gzip.open(path, 'rb')\n",
    "  for l in g:\n",
    "    yield json.loads(l)\n",
    "\n",
    "def getDF(path):\n",
    "  i = 0\n",
    "  df = {}\n",
    "  for d in parse(path):\n",
    "    df[i] = d\n",
    "    i += 1\n",
    "  return pd.DataFrame.from_dict(df, orient='index')\n",
    "\n",
    "\n"
   ]
  },
  {
   "cell_type": "code",
   "execution_count": 2,
   "metadata": {},
   "outputs": [
    {
     "data": {
      "text/html": [
       "<div>\n",
       "<style scoped>\n",
       "    .dataframe tbody tr th:only-of-type {\n",
       "        vertical-align: middle;\n",
       "    }\n",
       "\n",
       "    .dataframe tbody tr th {\n",
       "        vertical-align: top;\n",
       "    }\n",
       "\n",
       "    .dataframe thead th {\n",
       "        text-align: right;\n",
       "    }\n",
       "</style>\n",
       "<table border=\"1\" class=\"dataframe\">\n",
       "  <thead>\n",
       "    <tr style=\"text-align: right;\">\n",
       "      <th></th>\n",
       "      <th>overall</th>\n",
       "      <th>verified</th>\n",
       "      <th>reviewTime</th>\n",
       "      <th>reviewerID</th>\n",
       "      <th>asin</th>\n",
       "      <th>style</th>\n",
       "      <th>reviewerName</th>\n",
       "      <th>reviewText</th>\n",
       "      <th>summary</th>\n",
       "      <th>unixReviewTime</th>\n",
       "      <th>vote</th>\n",
       "      <th>image</th>\n",
       "    </tr>\n",
       "  </thead>\n",
       "  <tbody>\n",
       "    <tr>\n",
       "      <th>0</th>\n",
       "      <td>4.0</td>\n",
       "      <td>False</td>\n",
       "      <td>10 20, 2010</td>\n",
       "      <td>A38NELQT98S4H8</td>\n",
       "      <td>0321719816</td>\n",
       "      <td>{'Format:': ' DVD-ROM'}</td>\n",
       "      <td>WB Halper</td>\n",
       "      <td>I've been using Dreamweaver (and it's predeces...</td>\n",
       "      <td>A solid overview of Dreamweaver CS5</td>\n",
       "      <td>1287532800</td>\n",
       "      <td>NaN</td>\n",
       "      <td>NaN</td>\n",
       "    </tr>\n",
       "    <tr>\n",
       "      <th>1</th>\n",
       "      <td>4.0</td>\n",
       "      <td>False</td>\n",
       "      <td>10 18, 2010</td>\n",
       "      <td>A3QJU4FEN8PQSZ</td>\n",
       "      <td>0321719816</td>\n",
       "      <td>{'Format:': ' DVD-ROM'}</td>\n",
       "      <td>Grimmy</td>\n",
       "      <td>The demo is done with the PC version, with ref...</td>\n",
       "      <td>A good value</td>\n",
       "      <td>1287360000</td>\n",
       "      <td>NaN</td>\n",
       "      <td>NaN</td>\n",
       "    </tr>\n",
       "    <tr>\n",
       "      <th>2</th>\n",
       "      <td>5.0</td>\n",
       "      <td>False</td>\n",
       "      <td>10 16, 2010</td>\n",
       "      <td>ACJT8MUC0LRF0</td>\n",
       "      <td>0321719816</td>\n",
       "      <td>{'Format:': ' DVD-ROM'}</td>\n",
       "      <td>D. Fowler</td>\n",
       "      <td>If you've been wanting to learn how to create ...</td>\n",
       "      <td>This is excellent software for those who want ...</td>\n",
       "      <td>1287187200</td>\n",
       "      <td>3</td>\n",
       "      <td>NaN</td>\n",
       "    </tr>\n",
       "    <tr>\n",
       "      <th>3</th>\n",
       "      <td>5.0</td>\n",
       "      <td>False</td>\n",
       "      <td>10 12, 2010</td>\n",
       "      <td>AYUF7YETYOLNX</td>\n",
       "      <td>0321719816</td>\n",
       "      <td>{'Format:': ' DVD-ROM'}</td>\n",
       "      <td>Bryan Newman</td>\n",
       "      <td>I've been creating websites with Dreamweaver f...</td>\n",
       "      <td>A Fantastic Overview of Dream Weaver and Web D...</td>\n",
       "      <td>1286841600</td>\n",
       "      <td>NaN</td>\n",
       "      <td>NaN</td>\n",
       "    </tr>\n",
       "    <tr>\n",
       "      <th>4</th>\n",
       "      <td>5.0</td>\n",
       "      <td>False</td>\n",
       "      <td>10 7, 2010</td>\n",
       "      <td>A31ICLWQ9CSHRS</td>\n",
       "      <td>0321719816</td>\n",
       "      <td>{'Format:': ' DVD-ROM'}</td>\n",
       "      <td>Al Swanson</td>\n",
       "      <td>I decided (after trying a number of other prod...</td>\n",
       "      <td>Excellent Tutorials!</td>\n",
       "      <td>1286409600</td>\n",
       "      <td>NaN</td>\n",
       "      <td>NaN</td>\n",
       "    </tr>\n",
       "  </tbody>\n",
       "</table>\n",
       "</div>"
      ],
      "text/plain": [
       "   overall  verified   reviewTime      reviewerID        asin  \\\n",
       "0      4.0     False  10 20, 2010  A38NELQT98S4H8  0321719816   \n",
       "1      4.0     False  10 18, 2010  A3QJU4FEN8PQSZ  0321719816   \n",
       "2      5.0     False  10 16, 2010   ACJT8MUC0LRF0  0321719816   \n",
       "3      5.0     False  10 12, 2010   AYUF7YETYOLNX  0321719816   \n",
       "4      5.0     False   10 7, 2010  A31ICLWQ9CSHRS  0321719816   \n",
       "\n",
       "                     style  reviewerName  \\\n",
       "0  {'Format:': ' DVD-ROM'}     WB Halper   \n",
       "1  {'Format:': ' DVD-ROM'}        Grimmy   \n",
       "2  {'Format:': ' DVD-ROM'}     D. Fowler   \n",
       "3  {'Format:': ' DVD-ROM'}  Bryan Newman   \n",
       "4  {'Format:': ' DVD-ROM'}    Al Swanson   \n",
       "\n",
       "                                          reviewText  \\\n",
       "0  I've been using Dreamweaver (and it's predeces...   \n",
       "1  The demo is done with the PC version, with ref...   \n",
       "2  If you've been wanting to learn how to create ...   \n",
       "3  I've been creating websites with Dreamweaver f...   \n",
       "4  I decided (after trying a number of other prod...   \n",
       "\n",
       "                                             summary  unixReviewTime vote  \\\n",
       "0                A solid overview of Dreamweaver CS5      1287532800  NaN   \n",
       "1                                       A good value      1287360000  NaN   \n",
       "2  This is excellent software for those who want ...      1287187200    3   \n",
       "3  A Fantastic Overview of Dream Weaver and Web D...      1286841600  NaN   \n",
       "4                               Excellent Tutorials!      1286409600  NaN   \n",
       "\n",
       "  image  \n",
       "0   NaN  \n",
       "1   NaN  \n",
       "2   NaN  \n",
       "3   NaN  \n",
       "4   NaN  "
      ]
     },
     "execution_count": 2,
     "metadata": {},
     "output_type": "execute_result"
    }
   ],
   "source": [
    "df = getDF('Software_5.json.gz')\n",
    "df.head()"
   ]
  },
  {
   "cell_type": "code",
   "execution_count": 3,
   "metadata": {},
   "outputs": [
    {
     "data": {
      "text/html": [
       "<div>\n",
       "<style scoped>\n",
       "    .dataframe tbody tr th:only-of-type {\n",
       "        vertical-align: middle;\n",
       "    }\n",
       "\n",
       "    .dataframe tbody tr th {\n",
       "        vertical-align: top;\n",
       "    }\n",
       "\n",
       "    .dataframe thead th {\n",
       "        text-align: right;\n",
       "    }\n",
       "</style>\n",
       "<table border=\"1\" class=\"dataframe\">\n",
       "  <thead>\n",
       "    <tr style=\"text-align: right;\">\n",
       "      <th></th>\n",
       "      <th>rating</th>\n",
       "      <th>user</th>\n",
       "      <th>product</th>\n",
       "    </tr>\n",
       "  </thead>\n",
       "  <tbody>\n",
       "    <tr>\n",
       "      <th>0</th>\n",
       "      <td>4.0</td>\n",
       "      <td>A38NELQT98S4H8</td>\n",
       "      <td>0321719816</td>\n",
       "    </tr>\n",
       "    <tr>\n",
       "      <th>1</th>\n",
       "      <td>4.0</td>\n",
       "      <td>A3QJU4FEN8PQSZ</td>\n",
       "      <td>0321719816</td>\n",
       "    </tr>\n",
       "    <tr>\n",
       "      <th>2</th>\n",
       "      <td>5.0</td>\n",
       "      <td>ACJT8MUC0LRF0</td>\n",
       "      <td>0321719816</td>\n",
       "    </tr>\n",
       "    <tr>\n",
       "      <th>3</th>\n",
       "      <td>5.0</td>\n",
       "      <td>AYUF7YETYOLNX</td>\n",
       "      <td>0321719816</td>\n",
       "    </tr>\n",
       "    <tr>\n",
       "      <th>4</th>\n",
       "      <td>5.0</td>\n",
       "      <td>A31ICLWQ9CSHRS</td>\n",
       "      <td>0321719816</td>\n",
       "    </tr>\n",
       "    <tr>\n",
       "      <th>...</th>\n",
       "      <td>...</td>\n",
       "      <td>...</td>\n",
       "      <td>...</td>\n",
       "    </tr>\n",
       "    <tr>\n",
       "      <th>12800</th>\n",
       "      <td>4.0</td>\n",
       "      <td>A1E50L7PCVXLN4</td>\n",
       "      <td>B01FFVDY9M</td>\n",
       "    </tr>\n",
       "    <tr>\n",
       "      <th>12801</th>\n",
       "      <td>3.0</td>\n",
       "      <td>AVU1ILDDYW301</td>\n",
       "      <td>B01HAP3NUG</td>\n",
       "    </tr>\n",
       "    <tr>\n",
       "      <th>12802</th>\n",
       "      <td>4.0</td>\n",
       "      <td>A2LW5AL0KQ9P1M</td>\n",
       "      <td>B01HAP3NUG</td>\n",
       "    </tr>\n",
       "    <tr>\n",
       "      <th>12803</th>\n",
       "      <td>3.0</td>\n",
       "      <td>AZ515FFZ7I2P7</td>\n",
       "      <td>B01HAP47PQ</td>\n",
       "    </tr>\n",
       "    <tr>\n",
       "      <th>12804</th>\n",
       "      <td>4.0</td>\n",
       "      <td>A2WPL6Y08K6ZQH</td>\n",
       "      <td>B01HAP47PQ</td>\n",
       "    </tr>\n",
       "  </tbody>\n",
       "</table>\n",
       "<p>12805 rows × 3 columns</p>\n",
       "</div>"
      ],
      "text/plain": [
       "       rating            user     product\n",
       "0         4.0  A38NELQT98S4H8  0321719816\n",
       "1         4.0  A3QJU4FEN8PQSZ  0321719816\n",
       "2         5.0   ACJT8MUC0LRF0  0321719816\n",
       "3         5.0   AYUF7YETYOLNX  0321719816\n",
       "4         5.0  A31ICLWQ9CSHRS  0321719816\n",
       "...       ...             ...         ...\n",
       "12800     4.0  A1E50L7PCVXLN4  B01FFVDY9M\n",
       "12801     3.0   AVU1ILDDYW301  B01HAP3NUG\n",
       "12802     4.0  A2LW5AL0KQ9P1M  B01HAP3NUG\n",
       "12803     3.0   AZ515FFZ7I2P7  B01HAP47PQ\n",
       "12804     4.0  A2WPL6Y08K6ZQH  B01HAP47PQ\n",
       "\n",
       "[12805 rows x 3 columns]"
      ]
     },
     "execution_count": 3,
     "metadata": {},
     "output_type": "execute_result"
    }
   ],
   "source": [
    "#выбираем нужные столбцы и переименовываем для удобства\n",
    "df = df[['overall','reviewerID','asin']]\n",
    "df.rename(columns={'overall': 'rating', 'reviewerID': 'user','asin':'product'}, inplace=True)\n",
    "df"
   ]
  },
  {
   "cell_type": "code",
   "execution_count": 4,
   "metadata": {},
   "outputs": [
    {
     "name": "stdout",
     "output_type": "stream",
     "text": [
      "<class 'pandas.core.frame.DataFrame'>\n",
      "Int64Index: 12805 entries, 0 to 12804\n",
      "Data columns (total 3 columns):\n",
      " #   Column   Non-Null Count  Dtype  \n",
      "---  ------   --------------  -----  \n",
      " 0   rating   12805 non-null  float64\n",
      " 1   user     12805 non-null  object \n",
      " 2   product  12805 non-null  object \n",
      "dtypes: float64(1), object(2)\n",
      "memory usage: 400.2+ KB\n"
     ]
    }
   ],
   "source": [
    "df.info()"
   ]
  },
  {
   "cell_type": "markdown",
   "metadata": {},
   "source": [
    "## EDA"
   ]
  },
  {
   "cell_type": "code",
   "execution_count": 5,
   "metadata": {},
   "outputs": [
    {
     "data": {
      "text/html": [
       "        <script type=\"text/javascript\">\n",
       "        window.PlotlyConfig = {MathJaxConfig: 'local'};\n",
       "        if (window.MathJax) {MathJax.Hub.Config({SVG: {font: \"STIX-Web\"}});}\n",
       "        if (typeof require !== 'undefined') {\n",
       "        require.undef(\"plotly\");\n",
       "        requirejs.config({\n",
       "            paths: {\n",
       "                'plotly': ['https://cdn.plot.ly/plotly-latest.min']\n",
       "            }\n",
       "        });\n",
       "        require(['plotly'], function(Plotly) {\n",
       "            window._Plotly = Plotly;\n",
       "        });\n",
       "        }\n",
       "        </script>\n",
       "        "
      ]
     },
     "metadata": {},
     "output_type": "display_data"
    },
    {
     "data": {
      "application/vnd.plotly.v1+json": {
       "config": {
        "linkText": "Export to plot.ly",
        "plotlyServerURL": "https://plot.ly",
        "showLink": false
       },
       "data": [
        {
         "text": [
          "46.6 %",
          "23.6 %",
          "12.5 %",
          "5.6 %",
          "11.7 %"
         ],
         "textfont": {
          "color": "#000000"
         },
         "textposition": "auto",
         "type": "bar",
         "x": [
          5,
          4,
          3,
          2,
          1
         ],
         "y": [
          5972,
          3016,
          1598,
          719,
          1500
         ]
        }
       ],
       "layout": {
        "template": {
         "data": {
          "bar": [
           {
            "error_x": {
             "color": "#2a3f5f"
            },
            "error_y": {
             "color": "#2a3f5f"
            },
            "marker": {
             "line": {
              "color": "#E5ECF6",
              "width": 0.5
             }
            },
            "type": "bar"
           }
          ],
          "barpolar": [
           {
            "marker": {
             "line": {
              "color": "#E5ECF6",
              "width": 0.5
             }
            },
            "type": "barpolar"
           }
          ],
          "carpet": [
           {
            "aaxis": {
             "endlinecolor": "#2a3f5f",
             "gridcolor": "white",
             "linecolor": "white",
             "minorgridcolor": "white",
             "startlinecolor": "#2a3f5f"
            },
            "baxis": {
             "endlinecolor": "#2a3f5f",
             "gridcolor": "white",
             "linecolor": "white",
             "minorgridcolor": "white",
             "startlinecolor": "#2a3f5f"
            },
            "type": "carpet"
           }
          ],
          "choropleth": [
           {
            "colorbar": {
             "outlinewidth": 0,
             "ticks": ""
            },
            "type": "choropleth"
           }
          ],
          "contour": [
           {
            "colorbar": {
             "outlinewidth": 0,
             "ticks": ""
            },
            "colorscale": [
             [
              0,
              "#0d0887"
             ],
             [
              0.1111111111111111,
              "#46039f"
             ],
             [
              0.2222222222222222,
              "#7201a8"
             ],
             [
              0.3333333333333333,
              "#9c179e"
             ],
             [
              0.4444444444444444,
              "#bd3786"
             ],
             [
              0.5555555555555556,
              "#d8576b"
             ],
             [
              0.6666666666666666,
              "#ed7953"
             ],
             [
              0.7777777777777778,
              "#fb9f3a"
             ],
             [
              0.8888888888888888,
              "#fdca26"
             ],
             [
              1,
              "#f0f921"
             ]
            ],
            "type": "contour"
           }
          ],
          "contourcarpet": [
           {
            "colorbar": {
             "outlinewidth": 0,
             "ticks": ""
            },
            "type": "contourcarpet"
           }
          ],
          "heatmap": [
           {
            "colorbar": {
             "outlinewidth": 0,
             "ticks": ""
            },
            "colorscale": [
             [
              0,
              "#0d0887"
             ],
             [
              0.1111111111111111,
              "#46039f"
             ],
             [
              0.2222222222222222,
              "#7201a8"
             ],
             [
              0.3333333333333333,
              "#9c179e"
             ],
             [
              0.4444444444444444,
              "#bd3786"
             ],
             [
              0.5555555555555556,
              "#d8576b"
             ],
             [
              0.6666666666666666,
              "#ed7953"
             ],
             [
              0.7777777777777778,
              "#fb9f3a"
             ],
             [
              0.8888888888888888,
              "#fdca26"
             ],
             [
              1,
              "#f0f921"
             ]
            ],
            "type": "heatmap"
           }
          ],
          "heatmapgl": [
           {
            "colorbar": {
             "outlinewidth": 0,
             "ticks": ""
            },
            "colorscale": [
             [
              0,
              "#0d0887"
             ],
             [
              0.1111111111111111,
              "#46039f"
             ],
             [
              0.2222222222222222,
              "#7201a8"
             ],
             [
              0.3333333333333333,
              "#9c179e"
             ],
             [
              0.4444444444444444,
              "#bd3786"
             ],
             [
              0.5555555555555556,
              "#d8576b"
             ],
             [
              0.6666666666666666,
              "#ed7953"
             ],
             [
              0.7777777777777778,
              "#fb9f3a"
             ],
             [
              0.8888888888888888,
              "#fdca26"
             ],
             [
              1,
              "#f0f921"
             ]
            ],
            "type": "heatmapgl"
           }
          ],
          "histogram": [
           {
            "marker": {
             "colorbar": {
              "outlinewidth": 0,
              "ticks": ""
             }
            },
            "type": "histogram"
           }
          ],
          "histogram2d": [
           {
            "colorbar": {
             "outlinewidth": 0,
             "ticks": ""
            },
            "colorscale": [
             [
              0,
              "#0d0887"
             ],
             [
              0.1111111111111111,
              "#46039f"
             ],
             [
              0.2222222222222222,
              "#7201a8"
             ],
             [
              0.3333333333333333,
              "#9c179e"
             ],
             [
              0.4444444444444444,
              "#bd3786"
             ],
             [
              0.5555555555555556,
              "#d8576b"
             ],
             [
              0.6666666666666666,
              "#ed7953"
             ],
             [
              0.7777777777777778,
              "#fb9f3a"
             ],
             [
              0.8888888888888888,
              "#fdca26"
             ],
             [
              1,
              "#f0f921"
             ]
            ],
            "type": "histogram2d"
           }
          ],
          "histogram2dcontour": [
           {
            "colorbar": {
             "outlinewidth": 0,
             "ticks": ""
            },
            "colorscale": [
             [
              0,
              "#0d0887"
             ],
             [
              0.1111111111111111,
              "#46039f"
             ],
             [
              0.2222222222222222,
              "#7201a8"
             ],
             [
              0.3333333333333333,
              "#9c179e"
             ],
             [
              0.4444444444444444,
              "#bd3786"
             ],
             [
              0.5555555555555556,
              "#d8576b"
             ],
             [
              0.6666666666666666,
              "#ed7953"
             ],
             [
              0.7777777777777778,
              "#fb9f3a"
             ],
             [
              0.8888888888888888,
              "#fdca26"
             ],
             [
              1,
              "#f0f921"
             ]
            ],
            "type": "histogram2dcontour"
           }
          ],
          "mesh3d": [
           {
            "colorbar": {
             "outlinewidth": 0,
             "ticks": ""
            },
            "type": "mesh3d"
           }
          ],
          "parcoords": [
           {
            "line": {
             "colorbar": {
              "outlinewidth": 0,
              "ticks": ""
             }
            },
            "type": "parcoords"
           }
          ],
          "pie": [
           {
            "automargin": true,
            "type": "pie"
           }
          ],
          "scatter": [
           {
            "marker": {
             "colorbar": {
              "outlinewidth": 0,
              "ticks": ""
             }
            },
            "type": "scatter"
           }
          ],
          "scatter3d": [
           {
            "line": {
             "colorbar": {
              "outlinewidth": 0,
              "ticks": ""
             }
            },
            "marker": {
             "colorbar": {
              "outlinewidth": 0,
              "ticks": ""
             }
            },
            "type": "scatter3d"
           }
          ],
          "scattercarpet": [
           {
            "marker": {
             "colorbar": {
              "outlinewidth": 0,
              "ticks": ""
             }
            },
            "type": "scattercarpet"
           }
          ],
          "scattergeo": [
           {
            "marker": {
             "colorbar": {
              "outlinewidth": 0,
              "ticks": ""
             }
            },
            "type": "scattergeo"
           }
          ],
          "scattergl": [
           {
            "marker": {
             "colorbar": {
              "outlinewidth": 0,
              "ticks": ""
             }
            },
            "type": "scattergl"
           }
          ],
          "scattermapbox": [
           {
            "marker": {
             "colorbar": {
              "outlinewidth": 0,
              "ticks": ""
             }
            },
            "type": "scattermapbox"
           }
          ],
          "scatterpolar": [
           {
            "marker": {
             "colorbar": {
              "outlinewidth": 0,
              "ticks": ""
             }
            },
            "type": "scatterpolar"
           }
          ],
          "scatterpolargl": [
           {
            "marker": {
             "colorbar": {
              "outlinewidth": 0,
              "ticks": ""
             }
            },
            "type": "scatterpolargl"
           }
          ],
          "scatterternary": [
           {
            "marker": {
             "colorbar": {
              "outlinewidth": 0,
              "ticks": ""
             }
            },
            "type": "scatterternary"
           }
          ],
          "surface": [
           {
            "colorbar": {
             "outlinewidth": 0,
             "ticks": ""
            },
            "colorscale": [
             [
              0,
              "#0d0887"
             ],
             [
              0.1111111111111111,
              "#46039f"
             ],
             [
              0.2222222222222222,
              "#7201a8"
             ],
             [
              0.3333333333333333,
              "#9c179e"
             ],
             [
              0.4444444444444444,
              "#bd3786"
             ],
             [
              0.5555555555555556,
              "#d8576b"
             ],
             [
              0.6666666666666666,
              "#ed7953"
             ],
             [
              0.7777777777777778,
              "#fb9f3a"
             ],
             [
              0.8888888888888888,
              "#fdca26"
             ],
             [
              1,
              "#f0f921"
             ]
            ],
            "type": "surface"
           }
          ],
          "table": [
           {
            "cells": {
             "fill": {
              "color": "#EBF0F8"
             },
             "line": {
              "color": "white"
             }
            },
            "header": {
             "fill": {
              "color": "#C8D4E3"
             },
             "line": {
              "color": "white"
             }
            },
            "type": "table"
           }
          ]
         },
         "layout": {
          "annotationdefaults": {
           "arrowcolor": "#2a3f5f",
           "arrowhead": 0,
           "arrowwidth": 1
          },
          "coloraxis": {
           "colorbar": {
            "outlinewidth": 0,
            "ticks": ""
           }
          },
          "colorscale": {
           "diverging": [
            [
             0,
             "#8e0152"
            ],
            [
             0.1,
             "#c51b7d"
            ],
            [
             0.2,
             "#de77ae"
            ],
            [
             0.3,
             "#f1b6da"
            ],
            [
             0.4,
             "#fde0ef"
            ],
            [
             0.5,
             "#f7f7f7"
            ],
            [
             0.6,
             "#e6f5d0"
            ],
            [
             0.7,
             "#b8e186"
            ],
            [
             0.8,
             "#7fbc41"
            ],
            [
             0.9,
             "#4d9221"
            ],
            [
             1,
             "#276419"
            ]
           ],
           "sequential": [
            [
             0,
             "#0d0887"
            ],
            [
             0.1111111111111111,
             "#46039f"
            ],
            [
             0.2222222222222222,
             "#7201a8"
            ],
            [
             0.3333333333333333,
             "#9c179e"
            ],
            [
             0.4444444444444444,
             "#bd3786"
            ],
            [
             0.5555555555555556,
             "#d8576b"
            ],
            [
             0.6666666666666666,
             "#ed7953"
            ],
            [
             0.7777777777777778,
             "#fb9f3a"
            ],
            [
             0.8888888888888888,
             "#fdca26"
            ],
            [
             1,
             "#f0f921"
            ]
           ],
           "sequentialminus": [
            [
             0,
             "#0d0887"
            ],
            [
             0.1111111111111111,
             "#46039f"
            ],
            [
             0.2222222222222222,
             "#7201a8"
            ],
            [
             0.3333333333333333,
             "#9c179e"
            ],
            [
             0.4444444444444444,
             "#bd3786"
            ],
            [
             0.5555555555555556,
             "#d8576b"
            ],
            [
             0.6666666666666666,
             "#ed7953"
            ],
            [
             0.7777777777777778,
             "#fb9f3a"
            ],
            [
             0.8888888888888888,
             "#fdca26"
            ],
            [
             1,
             "#f0f921"
            ]
           ]
          },
          "colorway": [
           "#636efa",
           "#EF553B",
           "#00cc96",
           "#ab63fa",
           "#FFA15A",
           "#19d3f3",
           "#FF6692",
           "#B6E880",
           "#FF97FF",
           "#FECB52"
          ],
          "font": {
           "color": "#2a3f5f"
          },
          "geo": {
           "bgcolor": "white",
           "lakecolor": "white",
           "landcolor": "#E5ECF6",
           "showlakes": true,
           "showland": true,
           "subunitcolor": "white"
          },
          "hoverlabel": {
           "align": "left"
          },
          "hovermode": "closest",
          "mapbox": {
           "style": "light"
          },
          "paper_bgcolor": "white",
          "plot_bgcolor": "#E5ECF6",
          "polar": {
           "angularaxis": {
            "gridcolor": "white",
            "linecolor": "white",
            "ticks": ""
           },
           "bgcolor": "#E5ECF6",
           "radialaxis": {
            "gridcolor": "white",
            "linecolor": "white",
            "ticks": ""
           }
          },
          "scene": {
           "xaxis": {
            "backgroundcolor": "#E5ECF6",
            "gridcolor": "white",
            "gridwidth": 2,
            "linecolor": "white",
            "showbackground": true,
            "ticks": "",
            "zerolinecolor": "white"
           },
           "yaxis": {
            "backgroundcolor": "#E5ECF6",
            "gridcolor": "white",
            "gridwidth": 2,
            "linecolor": "white",
            "showbackground": true,
            "ticks": "",
            "zerolinecolor": "white"
           },
           "zaxis": {
            "backgroundcolor": "#E5ECF6",
            "gridcolor": "white",
            "gridwidth": 2,
            "linecolor": "white",
            "showbackground": true,
            "ticks": "",
            "zerolinecolor": "white"
           }
          },
          "shapedefaults": {
           "line": {
            "color": "#2a3f5f"
           }
          },
          "ternary": {
           "aaxis": {
            "gridcolor": "white",
            "linecolor": "white",
            "ticks": ""
           },
           "baxis": {
            "gridcolor": "white",
            "linecolor": "white",
            "ticks": ""
           },
           "bgcolor": "#E5ECF6",
           "caxis": {
            "gridcolor": "white",
            "linecolor": "white",
            "ticks": ""
           }
          },
          "title": {
           "x": 0.05
          },
          "xaxis": {
           "automargin": true,
           "gridcolor": "white",
           "linecolor": "white",
           "ticks": "",
           "title": {
            "standoff": 15
           },
           "zerolinecolor": "white",
           "zerolinewidth": 2
          },
          "yaxis": {
           "automargin": true,
           "gridcolor": "white",
           "linecolor": "white",
           "ticks": "",
           "title": {
            "standoff": 15
           },
           "zerolinecolor": "white",
           "zerolinewidth": 2
          }
         }
        },
        "title": {
         "text": "Распределение 12805 рейтингов"
        },
        "xaxis": {
         "title": {
          "text": "Рейтинг"
         }
        },
        "yaxis": {
         "title": {
          "text": "Количество"
         }
        }
       }
      },
      "text/html": [
       "<div>                            <div id=\"ef0d96a9-5235-4590-9543-412a340e9b55\" class=\"plotly-graph-div\" style=\"height:525px; width:100%;\"></div>            <script type=\"text/javascript\">                require([\"plotly\"], function(Plotly) {                    window.PLOTLYENV=window.PLOTLYENV || {};                                    if (document.getElementById(\"ef0d96a9-5235-4590-9543-412a340e9b55\")) {                    Plotly.newPlot(                        \"ef0d96a9-5235-4590-9543-412a340e9b55\",                        [{\"text\": [\"46.6 %\", \"23.6 %\", \"12.5 %\", \"5.6 %\", \"11.7 %\"], \"textfont\": {\"color\": \"#000000\"}, \"textposition\": \"auto\", \"type\": \"bar\", \"x\": [5.0, 4.0, 3.0, 2.0, 1.0], \"y\": [5972, 3016, 1598, 719, 1500]}],                        {\"template\": {\"data\": {\"bar\": [{\"error_x\": {\"color\": \"#2a3f5f\"}, \"error_y\": {\"color\": \"#2a3f5f\"}, \"marker\": {\"line\": {\"color\": \"#E5ECF6\", \"width\": 0.5}}, \"type\": \"bar\"}], \"barpolar\": [{\"marker\": {\"line\": {\"color\": \"#E5ECF6\", \"width\": 0.5}}, \"type\": \"barpolar\"}], \"carpet\": [{\"aaxis\": {\"endlinecolor\": \"#2a3f5f\", \"gridcolor\": \"white\", \"linecolor\": \"white\", \"minorgridcolor\": \"white\", \"startlinecolor\": \"#2a3f5f\"}, \"baxis\": {\"endlinecolor\": \"#2a3f5f\", \"gridcolor\": \"white\", \"linecolor\": \"white\", \"minorgridcolor\": \"white\", \"startlinecolor\": \"#2a3f5f\"}, \"type\": \"carpet\"}], \"choropleth\": [{\"colorbar\": {\"outlinewidth\": 0, \"ticks\": \"\"}, \"type\": \"choropleth\"}], \"contour\": [{\"colorbar\": {\"outlinewidth\": 0, \"ticks\": \"\"}, \"colorscale\": [[0.0, \"#0d0887\"], [0.1111111111111111, \"#46039f\"], [0.2222222222222222, \"#7201a8\"], [0.3333333333333333, \"#9c179e\"], [0.4444444444444444, \"#bd3786\"], [0.5555555555555556, \"#d8576b\"], [0.6666666666666666, \"#ed7953\"], [0.7777777777777778, \"#fb9f3a\"], [0.8888888888888888, \"#fdca26\"], [1.0, \"#f0f921\"]], \"type\": \"contour\"}], \"contourcarpet\": [{\"colorbar\": {\"outlinewidth\": 0, \"ticks\": \"\"}, \"type\": \"contourcarpet\"}], \"heatmap\": [{\"colorbar\": {\"outlinewidth\": 0, \"ticks\": \"\"}, \"colorscale\": [[0.0, \"#0d0887\"], [0.1111111111111111, \"#46039f\"], [0.2222222222222222, \"#7201a8\"], [0.3333333333333333, \"#9c179e\"], [0.4444444444444444, \"#bd3786\"], [0.5555555555555556, \"#d8576b\"], [0.6666666666666666, \"#ed7953\"], [0.7777777777777778, \"#fb9f3a\"], [0.8888888888888888, \"#fdca26\"], [1.0, \"#f0f921\"]], \"type\": \"heatmap\"}], \"heatmapgl\": [{\"colorbar\": {\"outlinewidth\": 0, \"ticks\": \"\"}, \"colorscale\": [[0.0, \"#0d0887\"], [0.1111111111111111, \"#46039f\"], [0.2222222222222222, \"#7201a8\"], [0.3333333333333333, \"#9c179e\"], [0.4444444444444444, \"#bd3786\"], [0.5555555555555556, \"#d8576b\"], [0.6666666666666666, \"#ed7953\"], [0.7777777777777778, \"#fb9f3a\"], [0.8888888888888888, \"#fdca26\"], [1.0, \"#f0f921\"]], \"type\": \"heatmapgl\"}], \"histogram\": [{\"marker\": {\"colorbar\": {\"outlinewidth\": 0, \"ticks\": \"\"}}, \"type\": \"histogram\"}], \"histogram2d\": [{\"colorbar\": {\"outlinewidth\": 0, \"ticks\": \"\"}, \"colorscale\": [[0.0, \"#0d0887\"], [0.1111111111111111, \"#46039f\"], [0.2222222222222222, \"#7201a8\"], [0.3333333333333333, \"#9c179e\"], [0.4444444444444444, \"#bd3786\"], [0.5555555555555556, \"#d8576b\"], [0.6666666666666666, \"#ed7953\"], [0.7777777777777778, \"#fb9f3a\"], [0.8888888888888888, \"#fdca26\"], [1.0, \"#f0f921\"]], \"type\": \"histogram2d\"}], \"histogram2dcontour\": [{\"colorbar\": {\"outlinewidth\": 0, \"ticks\": \"\"}, \"colorscale\": [[0.0, \"#0d0887\"], [0.1111111111111111, \"#46039f\"], [0.2222222222222222, \"#7201a8\"], [0.3333333333333333, \"#9c179e\"], [0.4444444444444444, \"#bd3786\"], [0.5555555555555556, \"#d8576b\"], [0.6666666666666666, \"#ed7953\"], [0.7777777777777778, \"#fb9f3a\"], [0.8888888888888888, \"#fdca26\"], [1.0, \"#f0f921\"]], \"type\": \"histogram2dcontour\"}], \"mesh3d\": [{\"colorbar\": {\"outlinewidth\": 0, \"ticks\": \"\"}, \"type\": \"mesh3d\"}], \"parcoords\": [{\"line\": {\"colorbar\": {\"outlinewidth\": 0, \"ticks\": \"\"}}, \"type\": \"parcoords\"}], \"pie\": [{\"automargin\": true, \"type\": \"pie\"}], \"scatter\": [{\"marker\": {\"colorbar\": {\"outlinewidth\": 0, \"ticks\": \"\"}}, \"type\": \"scatter\"}], \"scatter3d\": [{\"line\": {\"colorbar\": {\"outlinewidth\": 0, \"ticks\": \"\"}}, \"marker\": {\"colorbar\": {\"outlinewidth\": 0, \"ticks\": \"\"}}, \"type\": \"scatter3d\"}], \"scattercarpet\": [{\"marker\": {\"colorbar\": {\"outlinewidth\": 0, \"ticks\": \"\"}}, \"type\": \"scattercarpet\"}], \"scattergeo\": [{\"marker\": {\"colorbar\": {\"outlinewidth\": 0, \"ticks\": \"\"}}, \"type\": \"scattergeo\"}], \"scattergl\": [{\"marker\": {\"colorbar\": {\"outlinewidth\": 0, \"ticks\": \"\"}}, \"type\": \"scattergl\"}], \"scattermapbox\": [{\"marker\": {\"colorbar\": {\"outlinewidth\": 0, \"ticks\": \"\"}}, \"type\": \"scattermapbox\"}], \"scatterpolar\": [{\"marker\": {\"colorbar\": {\"outlinewidth\": 0, \"ticks\": \"\"}}, \"type\": \"scatterpolar\"}], \"scatterpolargl\": [{\"marker\": {\"colorbar\": {\"outlinewidth\": 0, \"ticks\": \"\"}}, \"type\": \"scatterpolargl\"}], \"scatterternary\": [{\"marker\": {\"colorbar\": {\"outlinewidth\": 0, \"ticks\": \"\"}}, \"type\": \"scatterternary\"}], \"surface\": [{\"colorbar\": {\"outlinewidth\": 0, \"ticks\": \"\"}, \"colorscale\": [[0.0, \"#0d0887\"], [0.1111111111111111, \"#46039f\"], [0.2222222222222222, \"#7201a8\"], [0.3333333333333333, \"#9c179e\"], [0.4444444444444444, \"#bd3786\"], [0.5555555555555556, \"#d8576b\"], [0.6666666666666666, \"#ed7953\"], [0.7777777777777778, \"#fb9f3a\"], [0.8888888888888888, \"#fdca26\"], [1.0, \"#f0f921\"]], \"type\": \"surface\"}], \"table\": [{\"cells\": {\"fill\": {\"color\": \"#EBF0F8\"}, \"line\": {\"color\": \"white\"}}, \"header\": {\"fill\": {\"color\": \"#C8D4E3\"}, \"line\": {\"color\": \"white\"}}, \"type\": \"table\"}]}, \"layout\": {\"annotationdefaults\": {\"arrowcolor\": \"#2a3f5f\", \"arrowhead\": 0, \"arrowwidth\": 1}, \"coloraxis\": {\"colorbar\": {\"outlinewidth\": 0, \"ticks\": \"\"}}, \"colorscale\": {\"diverging\": [[0, \"#8e0152\"], [0.1, \"#c51b7d\"], [0.2, \"#de77ae\"], [0.3, \"#f1b6da\"], [0.4, \"#fde0ef\"], [0.5, \"#f7f7f7\"], [0.6, \"#e6f5d0\"], [0.7, \"#b8e186\"], [0.8, \"#7fbc41\"], [0.9, \"#4d9221\"], [1, \"#276419\"]], \"sequential\": [[0.0, \"#0d0887\"], [0.1111111111111111, \"#46039f\"], [0.2222222222222222, \"#7201a8\"], [0.3333333333333333, \"#9c179e\"], [0.4444444444444444, \"#bd3786\"], [0.5555555555555556, \"#d8576b\"], [0.6666666666666666, \"#ed7953\"], [0.7777777777777778, \"#fb9f3a\"], [0.8888888888888888, \"#fdca26\"], [1.0, \"#f0f921\"]], \"sequentialminus\": [[0.0, \"#0d0887\"], [0.1111111111111111, \"#46039f\"], [0.2222222222222222, \"#7201a8\"], [0.3333333333333333, \"#9c179e\"], [0.4444444444444444, \"#bd3786\"], [0.5555555555555556, \"#d8576b\"], [0.6666666666666666, \"#ed7953\"], [0.7777777777777778, \"#fb9f3a\"], [0.8888888888888888, \"#fdca26\"], [1.0, \"#f0f921\"]]}, \"colorway\": [\"#636efa\", \"#EF553B\", \"#00cc96\", \"#ab63fa\", \"#FFA15A\", \"#19d3f3\", \"#FF6692\", \"#B6E880\", \"#FF97FF\", \"#FECB52\"], \"font\": {\"color\": \"#2a3f5f\"}, \"geo\": {\"bgcolor\": \"white\", \"lakecolor\": \"white\", \"landcolor\": \"#E5ECF6\", \"showlakes\": true, \"showland\": true, \"subunitcolor\": \"white\"}, \"hoverlabel\": {\"align\": \"left\"}, \"hovermode\": \"closest\", \"mapbox\": {\"style\": \"light\"}, \"paper_bgcolor\": \"white\", \"plot_bgcolor\": \"#E5ECF6\", \"polar\": {\"angularaxis\": {\"gridcolor\": \"white\", \"linecolor\": \"white\", \"ticks\": \"\"}, \"bgcolor\": \"#E5ECF6\", \"radialaxis\": {\"gridcolor\": \"white\", \"linecolor\": \"white\", \"ticks\": \"\"}}, \"scene\": {\"xaxis\": {\"backgroundcolor\": \"#E5ECF6\", \"gridcolor\": \"white\", \"gridwidth\": 2, \"linecolor\": \"white\", \"showbackground\": true, \"ticks\": \"\", \"zerolinecolor\": \"white\"}, \"yaxis\": {\"backgroundcolor\": \"#E5ECF6\", \"gridcolor\": \"white\", \"gridwidth\": 2, \"linecolor\": \"white\", \"showbackground\": true, \"ticks\": \"\", \"zerolinecolor\": \"white\"}, \"zaxis\": {\"backgroundcolor\": \"#E5ECF6\", \"gridcolor\": \"white\", \"gridwidth\": 2, \"linecolor\": \"white\", \"showbackground\": true, \"ticks\": \"\", \"zerolinecolor\": \"white\"}}, \"shapedefaults\": {\"line\": {\"color\": \"#2a3f5f\"}}, \"ternary\": {\"aaxis\": {\"gridcolor\": \"white\", \"linecolor\": \"white\", \"ticks\": \"\"}, \"baxis\": {\"gridcolor\": \"white\", \"linecolor\": \"white\", \"ticks\": \"\"}, \"bgcolor\": \"#E5ECF6\", \"caxis\": {\"gridcolor\": \"white\", \"linecolor\": \"white\", \"ticks\": \"\"}}, \"title\": {\"x\": 0.05}, \"xaxis\": {\"automargin\": true, \"gridcolor\": \"white\", \"linecolor\": \"white\", \"ticks\": \"\", \"title\": {\"standoff\": 15}, \"zerolinecolor\": \"white\", \"zerolinewidth\": 2}, \"yaxis\": {\"automargin\": true, \"gridcolor\": \"white\", \"linecolor\": \"white\", \"ticks\": \"\", \"title\": {\"standoff\": 15}, \"zerolinecolor\": \"white\", \"zerolinewidth\": 2}}}, \"title\": {\"text\": \"\\u0420\\u0430\\u0441\\u043f\\u0440\\u0435\\u0434\\u0435\\u043b\\u0435\\u043d\\u0438\\u0435 12805 \\u0440\\u0435\\u0439\\u0442\\u0438\\u043d\\u0433\\u043e\\u0432\"}, \"xaxis\": {\"title\": {\"text\": \"\\u0420\\u0435\\u0439\\u0442\\u0438\\u043d\\u0433\"}}, \"yaxis\": {\"title\": {\"text\": \"\\u041a\\u043e\\u043b\\u0438\\u0447\\u0435\\u0441\\u0442\\u0432\\u043e\"}}},                        {\"responsive\": true}                    ).then(function(){\n",
       "                            \n",
       "var gd = document.getElementById('ef0d96a9-5235-4590-9543-412a340e9b55');\n",
       "var x = new MutationObserver(function (mutations, observer) {{\n",
       "        var display = window.getComputedStyle(gd).display;\n",
       "        if (!display || display === 'none') {{\n",
       "            console.log([gd, 'removed!']);\n",
       "            Plotly.purge(gd);\n",
       "            observer.disconnect();\n",
       "        }}\n",
       "}});\n",
       "\n",
       "// Listen for the removal of the full notebook cells\n",
       "var notebookContainer = gd.closest('#notebook-container');\n",
       "if (notebookContainer) {{\n",
       "    x.observe(notebookContainer, {childList: true});\n",
       "}}\n",
       "\n",
       "// Listen for the clearing of the current output cell\n",
       "var outputEl = gd.closest('.output');\n",
       "if (outputEl) {{\n",
       "    x.observe(outputEl, {childList: true});\n",
       "}}\n",
       "\n",
       "                        })                };                });            </script>        </div>"
      ]
     },
     "metadata": {},
     "output_type": "display_data"
    }
   ],
   "source": [
    "from plotly.offline import init_notebook_mode, plot, iplot\n",
    "import plotly.graph_objs as go\n",
    "init_notebook_mode(connected=True)\n",
    "\n",
    "data = df['rating'].value_counts().sort_index(ascending=False)\n",
    "trace = go.Bar(x = data.index,\n",
    "               text = ['{:.1f} %'.format(val) for val in (data.values / df.shape[0] * 100)],\n",
    "               textposition = 'auto',\n",
    "               textfont = dict(color = '#000000'),\n",
    "               y = data.values,\n",
    "               )\n",
    "# Create layout\n",
    "layout = dict(title = 'Распределение {} рейтингов'.format(df.shape[0]),\n",
    "              xaxis = dict(title = 'Рейтинг'),\n",
    "              yaxis = dict(title = 'Количество'))\n",
    "# Create plot\n",
    "fig = go.Figure(data=[trace], layout=layout)\n",
    "iplot(fig)"
   ]
  },
  {
   "cell_type": "code",
   "execution_count": 6,
   "metadata": {},
   "outputs": [
    {
     "data": {
      "application/vnd.plotly.v1+json": {
       "config": {
        "linkText": "Export to plot.ly",
        "plotlyServerURL": "https://plot.ly",
        "showLink": false
       },
       "data": [
        {
         "name": "Ratings",
         "type": "histogram",
         "x": [
          8,
          14,
          9,
          36,
          9,
          16,
          19,
          7,
          19,
          5,
          7,
          8,
          10,
          4,
          5,
          5,
          6,
          12,
          50,
          6,
          5,
          5,
          5,
          5,
          10,
          16,
          7,
          11,
          14,
          5,
          8,
          5,
          6,
          8,
          6,
          7,
          6,
          6,
          5,
          13,
          6,
          11,
          50,
          5,
          7,
          5,
          7,
          5,
          12,
          9,
          5,
          50,
          6,
          16,
          12,
          7,
          6,
          5,
          5,
          8,
          7,
          11,
          15,
          7,
          8,
          9,
          5,
          7,
          12,
          11,
          7,
          5,
          6,
          6,
          13,
          7,
          9,
          5,
          8,
          5,
          14,
          5,
          5,
          50,
          5,
          5,
          25,
          12,
          5,
          9,
          6,
          8,
          6,
          6,
          7,
          15,
          13,
          16,
          7,
          5,
          9,
          6,
          10,
          27,
          15,
          13,
          7,
          3,
          11,
          7,
          18,
          8,
          5,
          14,
          5,
          11,
          6,
          5,
          6,
          11,
          13,
          17,
          13,
          16,
          10,
          7,
          23,
          25,
          8,
          10,
          34,
          4,
          4,
          1,
          4,
          2,
          1,
          8,
          7,
          4,
          50,
          11,
          13,
          2,
          30,
          5,
          49,
          4,
          1,
          2,
          29,
          10,
          10,
          20,
          44,
          10,
          4,
          2,
          6,
          50,
          8,
          42,
          1,
          7,
          2,
          6,
          46,
          6,
          2,
          2,
          2,
          3,
          4,
          22,
          1,
          5,
          2,
          1,
          1,
          9,
          2,
          1,
          34,
          2,
          4,
          4,
          6,
          8,
          5,
          1,
          50,
          6,
          3,
          4,
          35,
          30,
          2,
          3,
          22,
          38,
          3,
          8,
          2,
          2,
          6,
          2,
          1,
          1,
          1,
          4,
          10,
          40,
          8,
          11,
          33,
          4,
          1,
          2,
          2,
          7,
          2,
          5,
          1,
          4,
          1,
          4,
          2,
          2,
          8,
          39,
          50,
          14,
          1,
          2,
          2,
          43,
          1,
          1,
          24,
          21,
          11,
          17,
          19,
          20,
          19,
          20,
          26,
          34,
          5,
          11,
          5,
          18,
          15,
          26,
          7,
          20,
          22,
          5,
          20,
          23,
          12,
          5,
          9,
          8,
          5,
          19,
          5,
          8,
          8,
          21,
          18,
          18,
          17,
          10,
          5,
          5,
          22,
          5,
          13,
          9,
          11,
          5,
          21,
          11,
          6,
          5,
          11,
          30,
          25,
          11,
          12,
          22,
          17,
          17,
          14,
          16,
          15,
          15,
          7,
          14,
          19,
          22,
          49,
          17,
          10,
          18,
          22,
          19,
          20,
          18,
          8,
          21,
          13,
          18,
          15,
          15,
          16,
          10,
          22,
          5,
          19,
          17,
          6,
          5,
          5,
          20,
          15,
          4,
          6,
          16,
          13,
          6,
          5,
          16,
          15,
          13,
          7,
          11,
          16,
          17,
          11,
          22,
          20,
          13,
          28,
          29,
          20,
          17,
          14,
          16,
          8,
          35,
          5,
          16,
          15,
          9,
          7,
          16,
          17,
          15,
          14,
          14,
          6,
          11,
          21,
          7,
          8,
          14,
          6,
          17,
          17,
          5,
          14,
          17,
          13,
          28,
          5,
          9,
          27,
          19,
          5,
          36,
          17,
          8,
          22,
          22,
          17,
          10,
          18,
          12,
          25,
          17,
          39,
          12,
          19,
          4,
          18,
          18,
          7,
          18,
          33,
          10,
          29,
          10,
          23,
          21,
          15,
          13,
          18,
          23,
          7,
          7,
          15,
          20,
          5,
          7,
          18,
          23,
          8,
          27,
          11,
          6,
          29,
          4,
          22,
          23,
          15,
          6,
          5,
          13,
          19,
          14,
          17,
          15,
          5,
          9,
          50,
          17,
          25,
          22,
          18,
          19,
          10,
          7,
          8,
          17,
          19,
          14,
          15,
          17,
          12,
          17,
          5,
          6,
          21,
          35,
          18,
          22,
          10,
          8,
          50,
          19,
          49,
          18,
          22,
          14,
          12,
          7,
          18,
          25,
          15,
          12,
          14,
          21,
          19,
          8,
          6,
          17,
          7,
          8,
          16,
          5,
          7,
          6,
          7,
          10,
          15,
          11,
          12,
          6,
          5,
          13,
          34,
          6,
          20,
          5,
          29,
          12,
          21,
          8,
          22,
          19,
          8,
          6,
          28,
          9,
          11,
          18,
          5,
          27,
          5,
          42,
          23,
          21,
          11,
          9,
          20,
          21,
          11,
          18,
          10,
          9,
          50,
          18,
          15,
          19,
          7,
          23,
          21,
          5,
          9,
          8,
          50,
          21,
          35,
          49,
          23,
          6,
          14,
          38,
          17,
          9,
          11,
          5,
          6,
          10,
          15,
          5,
          5,
          5,
          38,
          14,
          18,
          19,
          10,
          3,
          14,
          15,
          18,
          19,
          26,
          26,
          50,
          50,
          14,
          26,
          5,
          11,
          27,
          17,
          26,
          50,
          20,
          22,
          20,
          6,
          36,
          5,
          15,
          17,
          26,
          6,
          5,
          6,
          23,
          12,
          21,
          6,
          23,
          5,
          22,
          14,
          21,
          11,
          18,
          8,
          12,
          48,
          5,
          21,
          24,
          26,
          19,
          24,
          6,
          21,
          9,
          31,
          30,
          30,
          16,
          9,
          9,
          21,
          22,
          18,
          10,
          21,
          7,
          46,
          12,
          7,
          36,
          6,
          12,
          22,
          5,
          14,
          19,
          14,
          14,
          15,
          9,
          23,
          6,
          23,
          10,
          6,
          50,
          24,
          16,
          6,
          13,
          23,
          8,
          35,
          28,
          50,
          31,
          6,
          12,
          50,
          15,
          18,
          16,
          7,
          5,
          19,
          10,
          5,
          10,
          50,
          8,
          25,
          9,
          7,
          7,
          15,
          11,
          9,
          8,
          21,
          17,
          13,
          14,
          16,
          7,
          13,
          17,
          16,
          16,
          20,
          17,
          5,
          47,
          6,
          13,
          7,
          38,
          8,
          6,
          6,
          20,
          5,
          13,
          2,
          8,
          6,
          6,
          24,
          10,
          18,
          8,
          13,
          6,
          35,
          50,
          10,
          9,
          9,
          5,
          6,
          9,
          5,
          14,
          8,
          24,
          11,
          18,
          27,
          16,
          7,
          29,
          12,
          11,
          17,
          11,
          16,
          6,
          20,
          18,
          14,
          14,
          9,
          14,
          12,
          16,
          8,
          8,
          8,
          6,
          18,
          10,
          29,
          46,
          22,
          47,
          14,
          12,
          11,
          15,
          6,
          14,
          6,
          16,
          8,
          50,
          36,
          14,
          10,
          8,
          8,
          5,
          13,
          22,
          13,
          15,
          10,
          9,
          17,
          23,
          11,
          11,
          44,
          49,
          32,
          8,
          31,
          7,
          15,
          8,
          8,
          24,
          5,
          8,
          19,
          11,
          16,
          17,
          15,
          26,
          5,
          5,
          8,
          11,
          12,
          12,
          48,
          15,
          7,
          14,
          12
         ],
         "xbins": {
          "end": 50,
          "size": 2,
          "start": 0
         }
        }
       ],
       "layout": {
        "bargap": 0.2,
        "template": {
         "data": {
          "bar": [
           {
            "error_x": {
             "color": "#2a3f5f"
            },
            "error_y": {
             "color": "#2a3f5f"
            },
            "marker": {
             "line": {
              "color": "#E5ECF6",
              "width": 0.5
             }
            },
            "type": "bar"
           }
          ],
          "barpolar": [
           {
            "marker": {
             "line": {
              "color": "#E5ECF6",
              "width": 0.5
             }
            },
            "type": "barpolar"
           }
          ],
          "carpet": [
           {
            "aaxis": {
             "endlinecolor": "#2a3f5f",
             "gridcolor": "white",
             "linecolor": "white",
             "minorgridcolor": "white",
             "startlinecolor": "#2a3f5f"
            },
            "baxis": {
             "endlinecolor": "#2a3f5f",
             "gridcolor": "white",
             "linecolor": "white",
             "minorgridcolor": "white",
             "startlinecolor": "#2a3f5f"
            },
            "type": "carpet"
           }
          ],
          "choropleth": [
           {
            "colorbar": {
             "outlinewidth": 0,
             "ticks": ""
            },
            "type": "choropleth"
           }
          ],
          "contour": [
           {
            "colorbar": {
             "outlinewidth": 0,
             "ticks": ""
            },
            "colorscale": [
             [
              0,
              "#0d0887"
             ],
             [
              0.1111111111111111,
              "#46039f"
             ],
             [
              0.2222222222222222,
              "#7201a8"
             ],
             [
              0.3333333333333333,
              "#9c179e"
             ],
             [
              0.4444444444444444,
              "#bd3786"
             ],
             [
              0.5555555555555556,
              "#d8576b"
             ],
             [
              0.6666666666666666,
              "#ed7953"
             ],
             [
              0.7777777777777778,
              "#fb9f3a"
             ],
             [
              0.8888888888888888,
              "#fdca26"
             ],
             [
              1,
              "#f0f921"
             ]
            ],
            "type": "contour"
           }
          ],
          "contourcarpet": [
           {
            "colorbar": {
             "outlinewidth": 0,
             "ticks": ""
            },
            "type": "contourcarpet"
           }
          ],
          "heatmap": [
           {
            "colorbar": {
             "outlinewidth": 0,
             "ticks": ""
            },
            "colorscale": [
             [
              0,
              "#0d0887"
             ],
             [
              0.1111111111111111,
              "#46039f"
             ],
             [
              0.2222222222222222,
              "#7201a8"
             ],
             [
              0.3333333333333333,
              "#9c179e"
             ],
             [
              0.4444444444444444,
              "#bd3786"
             ],
             [
              0.5555555555555556,
              "#d8576b"
             ],
             [
              0.6666666666666666,
              "#ed7953"
             ],
             [
              0.7777777777777778,
              "#fb9f3a"
             ],
             [
              0.8888888888888888,
              "#fdca26"
             ],
             [
              1,
              "#f0f921"
             ]
            ],
            "type": "heatmap"
           }
          ],
          "heatmapgl": [
           {
            "colorbar": {
             "outlinewidth": 0,
             "ticks": ""
            },
            "colorscale": [
             [
              0,
              "#0d0887"
             ],
             [
              0.1111111111111111,
              "#46039f"
             ],
             [
              0.2222222222222222,
              "#7201a8"
             ],
             [
              0.3333333333333333,
              "#9c179e"
             ],
             [
              0.4444444444444444,
              "#bd3786"
             ],
             [
              0.5555555555555556,
              "#d8576b"
             ],
             [
              0.6666666666666666,
              "#ed7953"
             ],
             [
              0.7777777777777778,
              "#fb9f3a"
             ],
             [
              0.8888888888888888,
              "#fdca26"
             ],
             [
              1,
              "#f0f921"
             ]
            ],
            "type": "heatmapgl"
           }
          ],
          "histogram": [
           {
            "marker": {
             "colorbar": {
              "outlinewidth": 0,
              "ticks": ""
             }
            },
            "type": "histogram"
           }
          ],
          "histogram2d": [
           {
            "colorbar": {
             "outlinewidth": 0,
             "ticks": ""
            },
            "colorscale": [
             [
              0,
              "#0d0887"
             ],
             [
              0.1111111111111111,
              "#46039f"
             ],
             [
              0.2222222222222222,
              "#7201a8"
             ],
             [
              0.3333333333333333,
              "#9c179e"
             ],
             [
              0.4444444444444444,
              "#bd3786"
             ],
             [
              0.5555555555555556,
              "#d8576b"
             ],
             [
              0.6666666666666666,
              "#ed7953"
             ],
             [
              0.7777777777777778,
              "#fb9f3a"
             ],
             [
              0.8888888888888888,
              "#fdca26"
             ],
             [
              1,
              "#f0f921"
             ]
            ],
            "type": "histogram2d"
           }
          ],
          "histogram2dcontour": [
           {
            "colorbar": {
             "outlinewidth": 0,
             "ticks": ""
            },
            "colorscale": [
             [
              0,
              "#0d0887"
             ],
             [
              0.1111111111111111,
              "#46039f"
             ],
             [
              0.2222222222222222,
              "#7201a8"
             ],
             [
              0.3333333333333333,
              "#9c179e"
             ],
             [
              0.4444444444444444,
              "#bd3786"
             ],
             [
              0.5555555555555556,
              "#d8576b"
             ],
             [
              0.6666666666666666,
              "#ed7953"
             ],
             [
              0.7777777777777778,
              "#fb9f3a"
             ],
             [
              0.8888888888888888,
              "#fdca26"
             ],
             [
              1,
              "#f0f921"
             ]
            ],
            "type": "histogram2dcontour"
           }
          ],
          "mesh3d": [
           {
            "colorbar": {
             "outlinewidth": 0,
             "ticks": ""
            },
            "type": "mesh3d"
           }
          ],
          "parcoords": [
           {
            "line": {
             "colorbar": {
              "outlinewidth": 0,
              "ticks": ""
             }
            },
            "type": "parcoords"
           }
          ],
          "pie": [
           {
            "automargin": true,
            "type": "pie"
           }
          ],
          "scatter": [
           {
            "marker": {
             "colorbar": {
              "outlinewidth": 0,
              "ticks": ""
             }
            },
            "type": "scatter"
           }
          ],
          "scatter3d": [
           {
            "line": {
             "colorbar": {
              "outlinewidth": 0,
              "ticks": ""
             }
            },
            "marker": {
             "colorbar": {
              "outlinewidth": 0,
              "ticks": ""
             }
            },
            "type": "scatter3d"
           }
          ],
          "scattercarpet": [
           {
            "marker": {
             "colorbar": {
              "outlinewidth": 0,
              "ticks": ""
             }
            },
            "type": "scattercarpet"
           }
          ],
          "scattergeo": [
           {
            "marker": {
             "colorbar": {
              "outlinewidth": 0,
              "ticks": ""
             }
            },
            "type": "scattergeo"
           }
          ],
          "scattergl": [
           {
            "marker": {
             "colorbar": {
              "outlinewidth": 0,
              "ticks": ""
             }
            },
            "type": "scattergl"
           }
          ],
          "scattermapbox": [
           {
            "marker": {
             "colorbar": {
              "outlinewidth": 0,
              "ticks": ""
             }
            },
            "type": "scattermapbox"
           }
          ],
          "scatterpolar": [
           {
            "marker": {
             "colorbar": {
              "outlinewidth": 0,
              "ticks": ""
             }
            },
            "type": "scatterpolar"
           }
          ],
          "scatterpolargl": [
           {
            "marker": {
             "colorbar": {
              "outlinewidth": 0,
              "ticks": ""
             }
            },
            "type": "scatterpolargl"
           }
          ],
          "scatterternary": [
           {
            "marker": {
             "colorbar": {
              "outlinewidth": 0,
              "ticks": ""
             }
            },
            "type": "scatterternary"
           }
          ],
          "surface": [
           {
            "colorbar": {
             "outlinewidth": 0,
             "ticks": ""
            },
            "colorscale": [
             [
              0,
              "#0d0887"
             ],
             [
              0.1111111111111111,
              "#46039f"
             ],
             [
              0.2222222222222222,
              "#7201a8"
             ],
             [
              0.3333333333333333,
              "#9c179e"
             ],
             [
              0.4444444444444444,
              "#bd3786"
             ],
             [
              0.5555555555555556,
              "#d8576b"
             ],
             [
              0.6666666666666666,
              "#ed7953"
             ],
             [
              0.7777777777777778,
              "#fb9f3a"
             ],
             [
              0.8888888888888888,
              "#fdca26"
             ],
             [
              1,
              "#f0f921"
             ]
            ],
            "type": "surface"
           }
          ],
          "table": [
           {
            "cells": {
             "fill": {
              "color": "#EBF0F8"
             },
             "line": {
              "color": "white"
             }
            },
            "header": {
             "fill": {
              "color": "#C8D4E3"
             },
             "line": {
              "color": "white"
             }
            },
            "type": "table"
           }
          ]
         },
         "layout": {
          "annotationdefaults": {
           "arrowcolor": "#2a3f5f",
           "arrowhead": 0,
           "arrowwidth": 1
          },
          "coloraxis": {
           "colorbar": {
            "outlinewidth": 0,
            "ticks": ""
           }
          },
          "colorscale": {
           "diverging": [
            [
             0,
             "#8e0152"
            ],
            [
             0.1,
             "#c51b7d"
            ],
            [
             0.2,
             "#de77ae"
            ],
            [
             0.3,
             "#f1b6da"
            ],
            [
             0.4,
             "#fde0ef"
            ],
            [
             0.5,
             "#f7f7f7"
            ],
            [
             0.6,
             "#e6f5d0"
            ],
            [
             0.7,
             "#b8e186"
            ],
            [
             0.8,
             "#7fbc41"
            ],
            [
             0.9,
             "#4d9221"
            ],
            [
             1,
             "#276419"
            ]
           ],
           "sequential": [
            [
             0,
             "#0d0887"
            ],
            [
             0.1111111111111111,
             "#46039f"
            ],
            [
             0.2222222222222222,
             "#7201a8"
            ],
            [
             0.3333333333333333,
             "#9c179e"
            ],
            [
             0.4444444444444444,
             "#bd3786"
            ],
            [
             0.5555555555555556,
             "#d8576b"
            ],
            [
             0.6666666666666666,
             "#ed7953"
            ],
            [
             0.7777777777777778,
             "#fb9f3a"
            ],
            [
             0.8888888888888888,
             "#fdca26"
            ],
            [
             1,
             "#f0f921"
            ]
           ],
           "sequentialminus": [
            [
             0,
             "#0d0887"
            ],
            [
             0.1111111111111111,
             "#46039f"
            ],
            [
             0.2222222222222222,
             "#7201a8"
            ],
            [
             0.3333333333333333,
             "#9c179e"
            ],
            [
             0.4444444444444444,
             "#bd3786"
            ],
            [
             0.5555555555555556,
             "#d8576b"
            ],
            [
             0.6666666666666666,
             "#ed7953"
            ],
            [
             0.7777777777777778,
             "#fb9f3a"
            ],
            [
             0.8888888888888888,
             "#fdca26"
            ],
            [
             1,
             "#f0f921"
            ]
           ]
          },
          "colorway": [
           "#636efa",
           "#EF553B",
           "#00cc96",
           "#ab63fa",
           "#FFA15A",
           "#19d3f3",
           "#FF6692",
           "#B6E880",
           "#FF97FF",
           "#FECB52"
          ],
          "font": {
           "color": "#2a3f5f"
          },
          "geo": {
           "bgcolor": "white",
           "lakecolor": "white",
           "landcolor": "#E5ECF6",
           "showlakes": true,
           "showland": true,
           "subunitcolor": "white"
          },
          "hoverlabel": {
           "align": "left"
          },
          "hovermode": "closest",
          "mapbox": {
           "style": "light"
          },
          "paper_bgcolor": "white",
          "plot_bgcolor": "#E5ECF6",
          "polar": {
           "angularaxis": {
            "gridcolor": "white",
            "linecolor": "white",
            "ticks": ""
           },
           "bgcolor": "#E5ECF6",
           "radialaxis": {
            "gridcolor": "white",
            "linecolor": "white",
            "ticks": ""
           }
          },
          "scene": {
           "xaxis": {
            "backgroundcolor": "#E5ECF6",
            "gridcolor": "white",
            "gridwidth": 2,
            "linecolor": "white",
            "showbackground": true,
            "ticks": "",
            "zerolinecolor": "white"
           },
           "yaxis": {
            "backgroundcolor": "#E5ECF6",
            "gridcolor": "white",
            "gridwidth": 2,
            "linecolor": "white",
            "showbackground": true,
            "ticks": "",
            "zerolinecolor": "white"
           },
           "zaxis": {
            "backgroundcolor": "#E5ECF6",
            "gridcolor": "white",
            "gridwidth": 2,
            "linecolor": "white",
            "showbackground": true,
            "ticks": "",
            "zerolinecolor": "white"
           }
          },
          "shapedefaults": {
           "line": {
            "color": "#2a3f5f"
           }
          },
          "ternary": {
           "aaxis": {
            "gridcolor": "white",
            "linecolor": "white",
            "ticks": ""
           },
           "baxis": {
            "gridcolor": "white",
            "linecolor": "white",
            "ticks": ""
           },
           "bgcolor": "#E5ECF6",
           "caxis": {
            "gridcolor": "white",
            "linecolor": "white",
            "ticks": ""
           }
          },
          "title": {
           "x": 0.05
          },
          "xaxis": {
           "automargin": true,
           "gridcolor": "white",
           "linecolor": "white",
           "ticks": "",
           "title": {
            "standoff": 15
           },
           "zerolinecolor": "white",
           "zerolinewidth": 2
          },
          "yaxis": {
           "automargin": true,
           "gridcolor": "white",
           "linecolor": "white",
           "ticks": "",
           "title": {
            "standoff": 15
           },
           "zerolinecolor": "white",
           "zerolinewidth": 2
          }
         }
        },
        "title": {
         "text": "Распределение рейтингов по продуктам"
        },
        "xaxis": {
         "title": {
          "text": "Число рейтингов по продукту"
         }
        },
        "yaxis": {
         "title": {
          "text": "Количество"
         }
        }
       }
      },
      "text/html": [
       "<div>                            <div id=\"33272411-e8f1-48af-92bd-125eeed175f5\" class=\"plotly-graph-div\" style=\"height:525px; width:100%;\"></div>            <script type=\"text/javascript\">                require([\"plotly\"], function(Plotly) {                    window.PLOTLYENV=window.PLOTLYENV || {};                                    if (document.getElementById(\"33272411-e8f1-48af-92bd-125eeed175f5\")) {                    Plotly.newPlot(                        \"33272411-e8f1-48af-92bd-125eeed175f5\",                        [{\"name\": \"Ratings\", \"type\": \"histogram\", \"x\": [8, 14, 9, 36, 9, 16, 19, 7, 19, 5, 7, 8, 10, 4, 5, 5, 6, 12, 50, 6, 5, 5, 5, 5, 10, 16, 7, 11, 14, 5, 8, 5, 6, 8, 6, 7, 6, 6, 5, 13, 6, 11, 50, 5, 7, 5, 7, 5, 12, 9, 5, 50, 6, 16, 12, 7, 6, 5, 5, 8, 7, 11, 15, 7, 8, 9, 5, 7, 12, 11, 7, 5, 6, 6, 13, 7, 9, 5, 8, 5, 14, 5, 5, 50, 5, 5, 25, 12, 5, 9, 6, 8, 6, 6, 7, 15, 13, 16, 7, 5, 9, 6, 10, 27, 15, 13, 7, 3, 11, 7, 18, 8, 5, 14, 5, 11, 6, 5, 6, 11, 13, 17, 13, 16, 10, 7, 23, 25, 8, 10, 34, 4, 4, 1, 4, 2, 1, 8, 7, 4, 50, 11, 13, 2, 30, 5, 49, 4, 1, 2, 29, 10, 10, 20, 44, 10, 4, 2, 6, 50, 8, 42, 1, 7, 2, 6, 46, 6, 2, 2, 2, 3, 4, 22, 1, 5, 2, 1, 1, 9, 2, 1, 34, 2, 4, 4, 6, 8, 5, 1, 50, 6, 3, 4, 35, 30, 2, 3, 22, 38, 3, 8, 2, 2, 6, 2, 1, 1, 1, 4, 10, 40, 8, 11, 33, 4, 1, 2, 2, 7, 2, 5, 1, 4, 1, 4, 2, 2, 8, 39, 50, 14, 1, 2, 2, 43, 1, 1, 24, 21, 11, 17, 19, 20, 19, 20, 26, 34, 5, 11, 5, 18, 15, 26, 7, 20, 22, 5, 20, 23, 12, 5, 9, 8, 5, 19, 5, 8, 8, 21, 18, 18, 17, 10, 5, 5, 22, 5, 13, 9, 11, 5, 21, 11, 6, 5, 11, 30, 25, 11, 12, 22, 17, 17, 14, 16, 15, 15, 7, 14, 19, 22, 49, 17, 10, 18, 22, 19, 20, 18, 8, 21, 13, 18, 15, 15, 16, 10, 22, 5, 19, 17, 6, 5, 5, 20, 15, 4, 6, 16, 13, 6, 5, 16, 15, 13, 7, 11, 16, 17, 11, 22, 20, 13, 28, 29, 20, 17, 14, 16, 8, 35, 5, 16, 15, 9, 7, 16, 17, 15, 14, 14, 6, 11, 21, 7, 8, 14, 6, 17, 17, 5, 14, 17, 13, 28, 5, 9, 27, 19, 5, 36, 17, 8, 22, 22, 17, 10, 18, 12, 25, 17, 39, 12, 19, 4, 18, 18, 7, 18, 33, 10, 29, 10, 23, 21, 15, 13, 18, 23, 7, 7, 15, 20, 5, 7, 18, 23, 8, 27, 11, 6, 29, 4, 22, 23, 15, 6, 5, 13, 19, 14, 17, 15, 5, 9, 50, 17, 25, 22, 18, 19, 10, 7, 8, 17, 19, 14, 15, 17, 12, 17, 5, 6, 21, 35, 18, 22, 10, 8, 50, 19, 49, 18, 22, 14, 12, 7, 18, 25, 15, 12, 14, 21, 19, 8, 6, 17, 7, 8, 16, 5, 7, 6, 7, 10, 15, 11, 12, 6, 5, 13, 34, 6, 20, 5, 29, 12, 21, 8, 22, 19, 8, 6, 28, 9, 11, 18, 5, 27, 5, 42, 23, 21, 11, 9, 20, 21, 11, 18, 10, 9, 50, 18, 15, 19, 7, 23, 21, 5, 9, 8, 50, 21, 35, 49, 23, 6, 14, 38, 17, 9, 11, 5, 6, 10, 15, 5, 5, 5, 38, 14, 18, 19, 10, 3, 14, 15, 18, 19, 26, 26, 50, 50, 14, 26, 5, 11, 27, 17, 26, 50, 20, 22, 20, 6, 36, 5, 15, 17, 26, 6, 5, 6, 23, 12, 21, 6, 23, 5, 22, 14, 21, 11, 18, 8, 12, 48, 5, 21, 24, 26, 19, 24, 6, 21, 9, 31, 30, 30, 16, 9, 9, 21, 22, 18, 10, 21, 7, 46, 12, 7, 36, 6, 12, 22, 5, 14, 19, 14, 14, 15, 9, 23, 6, 23, 10, 6, 50, 24, 16, 6, 13, 23, 8, 35, 28, 50, 31, 6, 12, 50, 15, 18, 16, 7, 5, 19, 10, 5, 10, 50, 8, 25, 9, 7, 7, 15, 11, 9, 8, 21, 17, 13, 14, 16, 7, 13, 17, 16, 16, 20, 17, 5, 47, 6, 13, 7, 38, 8, 6, 6, 20, 5, 13, 2, 8, 6, 6, 24, 10, 18, 8, 13, 6, 35, 50, 10, 9, 9, 5, 6, 9, 5, 14, 8, 24, 11, 18, 27, 16, 7, 29, 12, 11, 17, 11, 16, 6, 20, 18, 14, 14, 9, 14, 12, 16, 8, 8, 8, 6, 18, 10, 29, 46, 22, 47, 14, 12, 11, 15, 6, 14, 6, 16, 8, 50, 36, 14, 10, 8, 8, 5, 13, 22, 13, 15, 10, 9, 17, 23, 11, 11, 44, 49, 32, 8, 31, 7, 15, 8, 8, 24, 5, 8, 19, 11, 16, 17, 15, 26, 5, 5, 8, 11, 12, 12, 48, 15, 7, 14, 12], \"xbins\": {\"end\": 50, \"size\": 2, \"start\": 0}}],                        {\"bargap\": 0.2, \"template\": {\"data\": {\"bar\": [{\"error_x\": {\"color\": \"#2a3f5f\"}, \"error_y\": {\"color\": \"#2a3f5f\"}, \"marker\": {\"line\": {\"color\": \"#E5ECF6\", \"width\": 0.5}}, \"type\": \"bar\"}], \"barpolar\": [{\"marker\": {\"line\": {\"color\": \"#E5ECF6\", \"width\": 0.5}}, \"type\": \"barpolar\"}], \"carpet\": [{\"aaxis\": {\"endlinecolor\": \"#2a3f5f\", \"gridcolor\": \"white\", \"linecolor\": \"white\", \"minorgridcolor\": \"white\", \"startlinecolor\": \"#2a3f5f\"}, \"baxis\": {\"endlinecolor\": \"#2a3f5f\", \"gridcolor\": \"white\", \"linecolor\": \"white\", \"minorgridcolor\": \"white\", \"startlinecolor\": \"#2a3f5f\"}, \"type\": \"carpet\"}], \"choropleth\": [{\"colorbar\": {\"outlinewidth\": 0, \"ticks\": \"\"}, \"type\": \"choropleth\"}], \"contour\": [{\"colorbar\": {\"outlinewidth\": 0, \"ticks\": \"\"}, \"colorscale\": [[0.0, \"#0d0887\"], [0.1111111111111111, \"#46039f\"], [0.2222222222222222, \"#7201a8\"], [0.3333333333333333, \"#9c179e\"], [0.4444444444444444, \"#bd3786\"], [0.5555555555555556, \"#d8576b\"], [0.6666666666666666, \"#ed7953\"], [0.7777777777777778, \"#fb9f3a\"], [0.8888888888888888, \"#fdca26\"], [1.0, \"#f0f921\"]], \"type\": \"contour\"}], \"contourcarpet\": [{\"colorbar\": {\"outlinewidth\": 0, \"ticks\": \"\"}, \"type\": \"contourcarpet\"}], \"heatmap\": [{\"colorbar\": {\"outlinewidth\": 0, \"ticks\": \"\"}, \"colorscale\": [[0.0, \"#0d0887\"], [0.1111111111111111, \"#46039f\"], [0.2222222222222222, \"#7201a8\"], [0.3333333333333333, \"#9c179e\"], [0.4444444444444444, \"#bd3786\"], [0.5555555555555556, \"#d8576b\"], [0.6666666666666666, \"#ed7953\"], [0.7777777777777778, \"#fb9f3a\"], [0.8888888888888888, \"#fdca26\"], [1.0, \"#f0f921\"]], \"type\": \"heatmap\"}], \"heatmapgl\": [{\"colorbar\": {\"outlinewidth\": 0, \"ticks\": \"\"}, \"colorscale\": [[0.0, \"#0d0887\"], [0.1111111111111111, \"#46039f\"], [0.2222222222222222, \"#7201a8\"], [0.3333333333333333, \"#9c179e\"], [0.4444444444444444, \"#bd3786\"], [0.5555555555555556, \"#d8576b\"], [0.6666666666666666, \"#ed7953\"], [0.7777777777777778, \"#fb9f3a\"], [0.8888888888888888, \"#fdca26\"], [1.0, \"#f0f921\"]], \"type\": \"heatmapgl\"}], \"histogram\": [{\"marker\": {\"colorbar\": {\"outlinewidth\": 0, \"ticks\": \"\"}}, \"type\": \"histogram\"}], \"histogram2d\": [{\"colorbar\": {\"outlinewidth\": 0, \"ticks\": \"\"}, \"colorscale\": [[0.0, \"#0d0887\"], [0.1111111111111111, \"#46039f\"], [0.2222222222222222, \"#7201a8\"], [0.3333333333333333, \"#9c179e\"], [0.4444444444444444, \"#bd3786\"], [0.5555555555555556, \"#d8576b\"], [0.6666666666666666, \"#ed7953\"], [0.7777777777777778, \"#fb9f3a\"], [0.8888888888888888, \"#fdca26\"], [1.0, \"#f0f921\"]], \"type\": \"histogram2d\"}], \"histogram2dcontour\": [{\"colorbar\": {\"outlinewidth\": 0, \"ticks\": \"\"}, \"colorscale\": [[0.0, \"#0d0887\"], [0.1111111111111111, \"#46039f\"], [0.2222222222222222, \"#7201a8\"], [0.3333333333333333, \"#9c179e\"], [0.4444444444444444, \"#bd3786\"], [0.5555555555555556, \"#d8576b\"], [0.6666666666666666, \"#ed7953\"], [0.7777777777777778, \"#fb9f3a\"], [0.8888888888888888, \"#fdca26\"], [1.0, \"#f0f921\"]], \"type\": \"histogram2dcontour\"}], \"mesh3d\": [{\"colorbar\": {\"outlinewidth\": 0, \"ticks\": \"\"}, \"type\": \"mesh3d\"}], \"parcoords\": [{\"line\": {\"colorbar\": {\"outlinewidth\": 0, \"ticks\": \"\"}}, \"type\": \"parcoords\"}], \"pie\": [{\"automargin\": true, \"type\": \"pie\"}], \"scatter\": [{\"marker\": {\"colorbar\": {\"outlinewidth\": 0, \"ticks\": \"\"}}, \"type\": \"scatter\"}], \"scatter3d\": [{\"line\": {\"colorbar\": {\"outlinewidth\": 0, \"ticks\": \"\"}}, \"marker\": {\"colorbar\": {\"outlinewidth\": 0, \"ticks\": \"\"}}, \"type\": \"scatter3d\"}], \"scattercarpet\": [{\"marker\": {\"colorbar\": {\"outlinewidth\": 0, \"ticks\": \"\"}}, \"type\": \"scattercarpet\"}], \"scattergeo\": [{\"marker\": {\"colorbar\": {\"outlinewidth\": 0, \"ticks\": \"\"}}, \"type\": \"scattergeo\"}], \"scattergl\": [{\"marker\": {\"colorbar\": {\"outlinewidth\": 0, \"ticks\": \"\"}}, \"type\": \"scattergl\"}], \"scattermapbox\": [{\"marker\": {\"colorbar\": {\"outlinewidth\": 0, \"ticks\": \"\"}}, \"type\": \"scattermapbox\"}], \"scatterpolar\": [{\"marker\": {\"colorbar\": {\"outlinewidth\": 0, \"ticks\": \"\"}}, \"type\": \"scatterpolar\"}], \"scatterpolargl\": [{\"marker\": {\"colorbar\": {\"outlinewidth\": 0, \"ticks\": \"\"}}, \"type\": \"scatterpolargl\"}], \"scatterternary\": [{\"marker\": {\"colorbar\": {\"outlinewidth\": 0, \"ticks\": \"\"}}, \"type\": \"scatterternary\"}], \"surface\": [{\"colorbar\": {\"outlinewidth\": 0, \"ticks\": \"\"}, \"colorscale\": [[0.0, \"#0d0887\"], [0.1111111111111111, \"#46039f\"], [0.2222222222222222, \"#7201a8\"], [0.3333333333333333, \"#9c179e\"], [0.4444444444444444, \"#bd3786\"], [0.5555555555555556, \"#d8576b\"], [0.6666666666666666, \"#ed7953\"], [0.7777777777777778, \"#fb9f3a\"], [0.8888888888888888, \"#fdca26\"], [1.0, \"#f0f921\"]], \"type\": \"surface\"}], \"table\": [{\"cells\": {\"fill\": {\"color\": \"#EBF0F8\"}, \"line\": {\"color\": \"white\"}}, \"header\": {\"fill\": {\"color\": \"#C8D4E3\"}, \"line\": {\"color\": \"white\"}}, \"type\": \"table\"}]}, \"layout\": {\"annotationdefaults\": {\"arrowcolor\": \"#2a3f5f\", \"arrowhead\": 0, \"arrowwidth\": 1}, \"coloraxis\": {\"colorbar\": {\"outlinewidth\": 0, \"ticks\": \"\"}}, \"colorscale\": {\"diverging\": [[0, \"#8e0152\"], [0.1, \"#c51b7d\"], [0.2, \"#de77ae\"], [0.3, \"#f1b6da\"], [0.4, \"#fde0ef\"], [0.5, \"#f7f7f7\"], [0.6, \"#e6f5d0\"], [0.7, \"#b8e186\"], [0.8, \"#7fbc41\"], [0.9, \"#4d9221\"], [1, \"#276419\"]], \"sequential\": [[0.0, \"#0d0887\"], [0.1111111111111111, \"#46039f\"], [0.2222222222222222, \"#7201a8\"], [0.3333333333333333, \"#9c179e\"], [0.4444444444444444, \"#bd3786\"], [0.5555555555555556, \"#d8576b\"], [0.6666666666666666, \"#ed7953\"], [0.7777777777777778, \"#fb9f3a\"], [0.8888888888888888, \"#fdca26\"], [1.0, \"#f0f921\"]], \"sequentialminus\": [[0.0, \"#0d0887\"], [0.1111111111111111, \"#46039f\"], [0.2222222222222222, \"#7201a8\"], [0.3333333333333333, \"#9c179e\"], [0.4444444444444444, \"#bd3786\"], [0.5555555555555556, \"#d8576b\"], [0.6666666666666666, \"#ed7953\"], [0.7777777777777778, \"#fb9f3a\"], [0.8888888888888888, \"#fdca26\"], [1.0, \"#f0f921\"]]}, \"colorway\": [\"#636efa\", \"#EF553B\", \"#00cc96\", \"#ab63fa\", \"#FFA15A\", \"#19d3f3\", \"#FF6692\", \"#B6E880\", \"#FF97FF\", \"#FECB52\"], \"font\": {\"color\": \"#2a3f5f\"}, \"geo\": {\"bgcolor\": \"white\", \"lakecolor\": \"white\", \"landcolor\": \"#E5ECF6\", \"showlakes\": true, \"showland\": true, \"subunitcolor\": \"white\"}, \"hoverlabel\": {\"align\": \"left\"}, \"hovermode\": \"closest\", \"mapbox\": {\"style\": \"light\"}, \"paper_bgcolor\": \"white\", \"plot_bgcolor\": \"#E5ECF6\", \"polar\": {\"angularaxis\": {\"gridcolor\": \"white\", \"linecolor\": \"white\", \"ticks\": \"\"}, \"bgcolor\": \"#E5ECF6\", \"radialaxis\": {\"gridcolor\": \"white\", \"linecolor\": \"white\", \"ticks\": \"\"}}, \"scene\": {\"xaxis\": {\"backgroundcolor\": \"#E5ECF6\", \"gridcolor\": \"white\", \"gridwidth\": 2, \"linecolor\": \"white\", \"showbackground\": true, \"ticks\": \"\", \"zerolinecolor\": \"white\"}, \"yaxis\": {\"backgroundcolor\": \"#E5ECF6\", \"gridcolor\": \"white\", \"gridwidth\": 2, \"linecolor\": \"white\", \"showbackground\": true, \"ticks\": \"\", \"zerolinecolor\": \"white\"}, \"zaxis\": {\"backgroundcolor\": \"#E5ECF6\", \"gridcolor\": \"white\", \"gridwidth\": 2, \"linecolor\": \"white\", \"showbackground\": true, \"ticks\": \"\", \"zerolinecolor\": \"white\"}}, \"shapedefaults\": {\"line\": {\"color\": \"#2a3f5f\"}}, \"ternary\": {\"aaxis\": {\"gridcolor\": \"white\", \"linecolor\": \"white\", \"ticks\": \"\"}, \"baxis\": {\"gridcolor\": \"white\", \"linecolor\": \"white\", \"ticks\": \"\"}, \"bgcolor\": \"#E5ECF6\", \"caxis\": {\"gridcolor\": \"white\", \"linecolor\": \"white\", \"ticks\": \"\"}}, \"title\": {\"x\": 0.05}, \"xaxis\": {\"automargin\": true, \"gridcolor\": \"white\", \"linecolor\": \"white\", \"ticks\": \"\", \"title\": {\"standoff\": 15}, \"zerolinecolor\": \"white\", \"zerolinewidth\": 2}, \"yaxis\": {\"automargin\": true, \"gridcolor\": \"white\", \"linecolor\": \"white\", \"ticks\": \"\", \"title\": {\"standoff\": 15}, \"zerolinecolor\": \"white\", \"zerolinewidth\": 2}}}, \"title\": {\"text\": \"\\u0420\\u0430\\u0441\\u043f\\u0440\\u0435\\u0434\\u0435\\u043b\\u0435\\u043d\\u0438\\u0435 \\u0440\\u0435\\u0439\\u0442\\u0438\\u043d\\u0433\\u043e\\u0432 \\u043f\\u043e \\u043f\\u0440\\u043e\\u0434\\u0443\\u043a\\u0442\\u0430\\u043c\"}, \"xaxis\": {\"title\": {\"text\": \"\\u0427\\u0438\\u0441\\u043b\\u043e \\u0440\\u0435\\u0439\\u0442\\u0438\\u043d\\u0433\\u043e\\u0432 \\u043f\\u043e \\u043f\\u0440\\u043e\\u0434\\u0443\\u043a\\u0442\\u0443\"}}, \"yaxis\": {\"title\": {\"text\": \"\\u041a\\u043e\\u043b\\u0438\\u0447\\u0435\\u0441\\u0442\\u0432\\u043e\"}}},                        {\"responsive\": true}                    ).then(function(){\n",
       "                            \n",
       "var gd = document.getElementById('33272411-e8f1-48af-92bd-125eeed175f5');\n",
       "var x = new MutationObserver(function (mutations, observer) {{\n",
       "        var display = window.getComputedStyle(gd).display;\n",
       "        if (!display || display === 'none') {{\n",
       "            console.log([gd, 'removed!']);\n",
       "            Plotly.purge(gd);\n",
       "            observer.disconnect();\n",
       "        }}\n",
       "}});\n",
       "\n",
       "// Listen for the removal of the full notebook cells\n",
       "var notebookContainer = gd.closest('#notebook-container');\n",
       "if (notebookContainer) {{\n",
       "    x.observe(notebookContainer, {childList: true});\n",
       "}}\n",
       "\n",
       "// Listen for the clearing of the current output cell\n",
       "var outputEl = gd.closest('.output');\n",
       "if (outputEl) {{\n",
       "    x.observe(outputEl, {childList: true});\n",
       "}}\n",
       "\n",
       "                        })                };                });            </script>        </div>"
      ]
     },
     "metadata": {},
     "output_type": "display_data"
    }
   ],
   "source": [
    "data = df.groupby('product')['rating'].count().clip(upper=50)\n",
    "\n",
    "trace = go.Histogram(x = data.values,\n",
    "                     name = 'Ratings',\n",
    "                     xbins = dict(start = 0,\n",
    "                                  end = 50,\n",
    "                                  size = 2))\n",
    "layout = go.Layout(title = 'Распределение рейтингов по продуктам',\n",
    "                   xaxis = dict(title = 'Число рейтингов по продукту'),\n",
    "                   yaxis = dict(title = 'Количество'),\n",
    "                   bargap = 0.2)\n",
    "\n",
    "fig = go.Figure(data=[trace], layout=layout)\n",
    "iplot(fig)"
   ]
  },
  {
   "cell_type": "code",
   "execution_count": 7,
   "metadata": {},
   "outputs": [
    {
     "data": {
      "application/vnd.plotly.v1+json": {
       "config": {
        "linkText": "Export to plot.ly",
        "plotlyServerURL": "https://plot.ly",
        "showLink": false
       },
       "data": [
        {
         "name": "Ratings",
         "type": "histogram",
         "x": [
          5,
          29,
          5,
          10,
          5,
          6,
          6,
          8,
          6,
          5,
          16,
          9,
          8,
          9,
          5,
          10,
          8,
          6,
          15,
          8,
          8,
          5,
          5,
          24,
          7,
          11,
          7,
          5,
          5,
          5,
          5,
          5,
          5,
          5,
          7,
          22,
          12,
          7,
          5,
          5,
          9,
          5,
          5,
          5,
          5,
          9,
          9,
          12,
          8,
          6,
          8,
          6,
          5,
          5,
          11,
          5,
          5,
          5,
          7,
          5,
          5,
          5,
          18,
          6,
          5,
          10,
          7,
          12,
          13,
          6,
          5,
          5,
          6,
          5,
          5,
          6,
          5,
          13,
          9,
          5,
          5,
          5,
          6,
          7,
          5,
          5,
          8,
          7,
          5,
          13,
          6,
          12,
          5,
          7,
          9,
          5,
          7,
          8,
          5,
          6,
          9,
          7,
          8,
          5,
          7,
          5,
          6,
          10,
          6,
          5,
          5,
          8,
          10,
          6,
          7,
          7,
          6,
          5,
          5,
          5,
          5,
          6,
          5,
          5,
          6,
          13,
          7,
          8,
          14,
          5,
          6,
          5,
          8,
          9,
          6,
          5,
          5,
          5,
          11,
          5,
          5,
          6,
          5,
          6,
          5,
          7,
          7,
          5,
          5,
          7,
          8,
          9,
          6,
          5,
          8,
          5,
          8,
          5,
          5,
          9,
          15,
          6,
          6,
          13,
          9,
          6,
          9,
          12,
          5,
          5,
          5,
          7,
          5,
          6,
          5,
          7,
          8,
          5,
          9,
          5,
          9,
          5,
          5,
          6,
          7,
          5,
          5,
          5,
          7,
          10,
          12,
          7,
          5,
          5,
          5,
          9,
          8,
          5,
          5,
          5,
          5,
          6,
          14,
          5,
          6,
          11,
          6,
          20,
          5,
          6,
          20,
          5,
          5,
          5,
          5,
          5,
          5,
          6,
          13,
          5,
          5,
          6,
          5,
          6,
          9,
          10,
          5,
          20,
          5,
          12,
          7,
          5,
          6,
          5,
          5,
          6,
          9,
          5,
          5,
          5,
          15,
          10,
          6,
          5,
          6,
          8,
          7,
          5,
          12,
          5,
          5,
          5,
          6,
          7,
          21,
          6,
          6,
          9,
          5,
          5,
          7,
          5,
          6,
          7,
          7,
          6,
          5,
          15,
          9,
          5,
          8,
          8,
          5,
          5,
          5,
          8,
          5,
          5,
          5,
          7,
          14,
          5,
          11,
          8,
          5,
          12,
          6,
          5,
          9,
          5,
          5,
          9,
          6,
          7,
          5,
          8,
          7,
          6,
          5,
          5,
          6,
          5,
          5,
          12,
          21,
          5,
          8,
          5,
          5,
          6,
          6,
          5,
          6,
          10,
          8,
          5,
          5,
          6,
          8,
          5,
          5,
          5,
          5,
          5,
          5,
          6,
          8,
          5,
          8,
          5,
          5,
          5,
          8,
          9,
          12,
          8,
          5,
          6,
          4,
          5,
          5,
          5,
          6,
          8,
          5,
          5,
          5,
          5,
          6,
          10,
          7,
          7,
          6,
          10,
          8,
          5,
          5,
          8,
          5,
          6,
          5,
          5,
          7,
          5,
          5,
          6,
          7,
          5,
          6,
          8,
          5,
          5,
          5,
          5,
          6,
          8,
          6,
          7,
          6,
          9,
          8,
          6,
          6,
          5,
          5,
          5,
          5,
          6,
          6,
          5,
          5,
          5,
          24,
          6,
          5,
          5,
          8,
          7,
          5,
          6,
          5,
          8,
          5,
          5,
          5,
          9,
          5,
          5,
          5,
          11,
          5,
          5,
          9,
          5,
          5,
          6,
          5,
          5,
          5,
          6,
          5,
          11,
          5,
          6,
          15,
          10,
          7,
          5,
          5,
          5,
          5,
          6,
          7,
          6,
          9,
          5,
          5,
          11,
          13,
          7,
          5,
          5,
          6,
          6,
          5,
          7,
          9,
          5,
          6,
          7,
          5,
          19,
          6,
          6,
          5,
          8,
          6,
          7,
          5,
          5,
          7,
          5,
          5,
          6,
          6,
          6,
          5,
          5,
          6,
          7,
          7,
          9,
          5,
          7,
          5,
          13,
          12,
          7,
          5,
          5,
          9,
          6,
          5,
          11,
          5,
          7,
          5,
          38,
          8,
          6,
          5,
          5,
          5,
          5,
          5,
          5,
          5,
          5,
          7,
          5,
          5,
          6,
          8,
          11,
          5,
          5,
          6,
          5,
          5,
          5,
          50,
          7,
          8,
          6,
          12,
          6,
          6,
          5,
          5,
          10,
          7,
          10,
          7,
          5,
          9,
          17,
          6,
          5,
          6,
          5,
          5,
          6,
          5,
          5,
          5,
          17,
          7,
          7,
          5,
          5,
          7,
          5,
          6,
          7,
          7,
          9,
          8,
          10,
          9,
          8,
          5,
          12,
          5,
          5,
          7,
          12,
          25,
          5,
          5,
          6,
          5,
          5,
          6,
          11,
          13,
          12,
          6,
          5,
          10,
          6,
          5,
          5,
          6,
          9,
          7,
          5,
          8,
          10,
          6,
          7,
          8,
          6,
          5,
          6,
          7,
          5,
          7,
          8,
          5,
          7,
          5,
          5,
          5,
          5,
          5,
          7,
          9,
          5,
          5,
          5,
          6,
          7,
          5,
          5,
          5,
          5,
          5,
          5,
          8,
          5,
          5,
          9,
          6,
          5,
          7,
          23,
          5,
          5,
          5,
          5,
          13,
          4,
          20,
          5,
          5,
          5,
          5,
          5,
          10,
          11,
          6,
          6,
          8,
          7,
          5,
          5,
          5,
          5,
          6,
          5,
          6,
          9,
          6,
          12,
          5,
          13,
          6,
          8,
          6,
          6,
          9,
          5,
          5,
          9,
          5,
          13,
          5,
          6,
          10,
          6,
          12,
          5,
          5,
          6,
          5,
          7,
          7,
          5,
          18,
          5,
          5,
          10,
          5,
          5,
          5,
          5,
          8,
          8,
          5,
          6,
          5,
          5,
          5,
          5,
          15,
          21,
          5,
          5,
          5,
          5,
          10,
          6,
          5,
          10,
          7,
          11,
          6,
          6,
          5,
          5,
          5,
          5,
          7,
          6,
          6,
          9,
          9,
          8,
          6,
          8,
          5,
          7,
          5,
          6,
          6,
          12,
          5,
          7,
          5,
          8,
          9,
          8,
          5,
          7,
          5,
          8,
          5,
          5,
          16,
          5,
          8,
          17,
          10,
          6,
          6,
          7,
          6,
          8,
          5,
          5,
          11,
          5,
          5,
          6,
          6,
          6,
          9,
          6,
          6,
          10,
          5,
          5,
          6,
          7,
          5,
          9,
          14,
          5,
          8,
          7,
          5,
          5,
          24,
          7,
          6,
          5,
          5,
          5,
          9,
          5,
          8,
          10,
          5,
          5,
          6,
          6,
          5,
          5,
          7,
          5,
          8,
          5,
          5,
          5,
          6,
          5,
          5,
          6,
          7,
          5,
          5,
          5,
          7,
          8,
          5,
          8,
          5,
          5,
          15,
          5,
          8,
          5,
          5,
          26,
          7,
          6,
          11,
          5,
          5,
          7,
          5,
          8,
          5,
          5,
          10,
          6,
          19,
          8,
          5,
          6,
          10,
          5,
          6,
          6,
          5,
          6,
          5,
          10,
          7,
          5,
          7,
          10,
          5,
          6,
          6,
          13,
          5,
          5,
          5,
          7,
          13,
          6,
          5,
          6,
          5,
          5,
          7,
          5,
          8,
          5,
          8,
          5,
          13,
          5,
          6,
          7,
          7,
          23,
          5,
          9,
          9,
          10,
          10,
          9,
          5,
          6,
          7,
          5,
          5,
          6,
          5,
          5,
          7,
          5,
          5,
          6,
          8,
          5,
          5,
          5,
          11,
          14,
          14,
          6,
          5,
          9,
          5,
          6,
          10,
          6,
          6,
          6,
          8,
          5,
          8,
          5,
          5,
          8,
          12,
          6,
          6,
          13,
          13,
          14,
          5,
          5,
          6,
          5,
          5,
          6,
          7,
          5,
          6,
          14,
          5,
          6,
          5,
          5,
          7,
          5,
          6,
          5,
          8,
          5,
          8,
          12,
          10,
          5,
          5,
          5,
          9,
          8,
          6,
          5,
          5,
          16,
          6,
          5,
          6,
          5,
          5,
          8,
          5,
          12,
          5,
          5,
          6,
          6,
          5,
          7,
          8,
          5,
          5,
          5,
          7,
          5,
          5,
          6,
          6,
          6,
          8,
          7,
          5,
          7,
          5,
          5,
          7,
          7,
          5,
          29,
          5,
          5,
          7,
          7,
          7,
          6,
          5,
          6,
          8,
          7,
          15,
          5,
          5,
          5,
          5,
          7,
          5,
          5,
          5,
          7,
          5,
          6,
          7,
          10,
          6,
          5,
          5,
          5,
          17,
          9,
          5,
          5,
          5,
          6,
          8,
          5,
          12,
          6,
          5,
          6,
          5,
          8,
          5,
          5,
          7,
          5,
          6,
          5,
          5,
          5,
          7,
          6,
          5,
          13,
          7,
          5,
          5,
          20,
          5,
          9,
          5,
          6,
          5,
          8,
          5,
          7,
          5,
          5,
          6,
          8,
          5,
          5,
          6,
          5,
          5,
          6,
          5,
          5,
          6,
          5,
          9,
          5,
          7,
          19,
          7,
          9,
          5,
          8,
          6,
          7,
          5,
          5,
          5,
          9,
          7,
          8,
          5,
          6,
          6,
          5,
          5,
          5,
          5,
          5,
          7,
          5,
          7,
          5,
          5,
          9,
          5,
          7,
          11,
          5,
          5,
          5,
          5,
          5,
          6,
          5,
          11,
          6,
          5,
          5,
          7,
          5,
          5,
          10,
          26,
          5,
          10,
          5,
          5,
          5,
          9,
          6,
          5,
          9,
          7,
          6,
          18,
          5,
          5,
          18,
          5,
          6,
          9,
          6,
          5,
          5,
          5,
          5,
          5,
          5,
          7,
          5,
          6,
          6,
          6,
          5,
          5,
          6,
          6,
          6,
          8,
          16,
          5,
          5,
          11,
          5,
          11,
          7,
          10,
          1,
          5,
          8,
          6,
          5,
          22,
          5,
          6,
          6,
          8,
          9,
          19,
          5,
          5,
          7,
          8,
          5,
          9,
          5,
          5,
          8,
          5,
          15,
          5,
          11,
          5,
          5,
          6,
          5,
          6,
          7,
          5,
          5,
          5,
          5,
          5,
          7,
          6,
          9,
          8,
          5,
          6,
          5,
          5,
          8,
          5,
          8,
          5,
          5,
          7,
          8,
          6,
          5,
          5,
          5,
          6,
          6,
          7,
          5,
          5,
          8,
          7,
          5,
          5,
          16,
          7,
          5,
          5,
          15,
          5,
          7,
          6,
          20,
          6,
          5,
          5,
          6,
          12,
          6,
          7,
          5,
          6,
          5,
          11,
          10,
          5,
          5,
          5,
          5,
          5,
          6,
          7,
          5,
          5,
          5,
          17,
          9,
          5,
          6,
          6,
          5,
          10,
          9,
          18,
          9,
          5,
          5,
          11,
          7,
          15,
          5,
          6,
          5,
          6,
          5,
          5,
          6,
          7,
          7,
          10,
          6,
          15,
          8,
          6,
          24,
          5,
          5,
          11,
          5,
          6,
          10,
          5,
          8,
          5,
          5,
          7,
          5,
          5,
          5,
          13,
          5,
          6,
          5,
          6,
          5,
          5,
          6,
          12,
          5,
          6,
          6,
          5,
          7,
          9,
          5,
          10,
          5,
          17,
          5,
          7,
          5,
          7,
          8,
          7,
          8,
          5,
          5,
          5,
          6,
          6,
          5,
          5,
          6,
          5,
          5,
          7,
          14,
          5,
          5,
          6,
          5,
          9,
          5,
          9,
          5,
          6,
          11,
          5,
          9,
          5,
          5,
          15,
          7,
          5,
          6,
          5,
          5,
          5,
          5,
          5,
          5,
          5,
          12,
          5,
          7,
          5,
          5,
          9,
          7,
          5,
          5,
          6,
          7,
          5,
          5,
          8,
          8,
          6,
          5,
          5,
          5,
          8,
          5,
          8,
          5,
          6,
          6,
          16,
          11,
          5,
          6,
          5,
          6,
          5,
          5,
          22,
          6,
          6,
          5,
          6,
          11,
          5,
          6,
          5,
          8,
          8,
          5,
          6,
          5,
          11,
          5,
          5,
          7,
          5,
          7,
          6,
          5,
          5,
          23,
          17,
          6,
          9,
          5,
          9,
          5,
          45,
          5,
          9,
          5,
          5,
          5,
          6,
          6,
          5,
          5,
          6,
          17,
          8,
          5,
          5,
          11,
          8,
          20,
          7,
          9,
          5,
          12,
          5,
          6,
          5,
          5,
          5,
          9,
          5,
          6,
          5,
          6,
          7,
          7,
          5,
          7,
          5,
          5,
          5,
          5,
          5,
          10,
          5,
          5,
          5,
          5,
          5,
          8,
          5,
          13,
          6,
          7,
          5,
          5,
          5,
          6,
          6,
          9,
          5,
          5,
          10,
          7,
          5,
          6,
          5,
          9,
          5,
          6,
          5,
          8,
          5,
          9,
          14,
          6,
          5,
          5,
          5,
          13,
          6,
          6,
          7,
          6,
          8,
          6,
          5,
          6,
          5,
          16,
          6,
          5,
          11,
          7,
          10,
          5,
          6,
          5,
          9,
          12,
          5,
          8,
          5,
          6,
          5,
          6,
          12,
          5,
          14,
          6,
          6,
          7,
          11,
          5,
          7,
          5,
          5,
          8,
          5,
          5,
          5,
          6,
          5,
          7,
          5,
          9,
          5,
          5,
          5,
          5,
          6,
          5,
          9,
          5,
          7,
          6,
          5,
          6,
          6,
          14,
          7,
          6,
          18,
          6,
          5,
          9,
          14,
          7,
          5,
          5,
          5,
          5,
          5,
          10,
          5,
          9,
          7,
          5,
          7,
          5,
          9,
          9,
          5,
          6,
          8,
          5,
          6,
          6,
          11,
          6,
          21,
          11,
          5,
          11,
          5,
          5,
          8,
          10,
          5,
          6,
          5,
          6,
          7,
          6,
          8,
          5,
          5,
          5,
          5,
          5,
          5,
          5,
          5,
          7,
          9,
          9,
          6,
          6,
          5,
          5,
          5,
          5,
          5,
          5,
          5,
          5,
          5,
          7,
          5,
          5,
          5,
          5,
          6,
          6,
          11,
          5,
          5,
          7,
          6,
          5,
          5,
          5,
          5,
          6,
          5,
          7,
          5,
          5,
          6,
          6,
          5,
          22,
          5,
          10,
          13,
          8,
          12,
          9,
          10,
          5,
          5,
          5,
          5,
          5,
          8,
          5,
          5,
          8,
          6,
          5,
          6,
          21,
          6,
          5,
          9,
          12,
          5,
          6,
          9,
          6,
          8,
          5,
          5,
          8,
          6,
          5,
          6,
          5,
          11,
          6,
          7,
          5,
          5,
          5,
          5,
          5,
          7,
          5,
          5,
          5,
          10,
          5,
          31,
          9,
          6,
          5,
          6,
          5,
          7,
          5,
          6,
          5,
          8,
          5,
          5,
          5,
          9,
          5,
          5,
          9,
          5,
          7,
          5,
          5,
          16,
          8,
          6,
          5,
          7,
          6,
          5,
          6,
          8,
          9,
          12,
          5,
          7,
          6,
          7,
          7,
          5,
          9,
          6,
          6,
          5,
          17,
          23,
          5,
          11,
          5,
          5,
          5,
          7,
          5,
          8,
          5,
          5,
          10,
          5,
          6,
          5,
          5,
          5,
          9,
          6,
          6,
          5,
          5,
          5,
          6,
          5,
          5,
          6,
          6,
          19,
          6,
          5,
          5,
          5,
          5,
          7,
          6,
          9,
          6,
          6,
          7,
          6,
          7,
          7,
          5,
          5,
          6,
          11,
          5,
          7,
          5,
          8,
          7,
          9,
          5,
          5,
          7,
          5,
          7,
          9,
          6,
          9,
          5,
          5,
          7,
          5,
          5,
          10,
          6,
          5,
          5,
          5,
          7,
          7,
          10,
          17,
          7,
          9,
          11,
          5,
          5,
          5,
          8,
          5,
          5,
          5,
          15,
          5,
          5,
          5,
          15,
          5,
          6,
          8,
          5
         ],
         "xbins": {
          "end": 50,
          "size": 2,
          "start": 0
         }
        }
       ],
       "layout": {
        "bargap": 0.2,
        "template": {
         "data": {
          "bar": [
           {
            "error_x": {
             "color": "#2a3f5f"
            },
            "error_y": {
             "color": "#2a3f5f"
            },
            "marker": {
             "line": {
              "color": "#E5ECF6",
              "width": 0.5
             }
            },
            "type": "bar"
           }
          ],
          "barpolar": [
           {
            "marker": {
             "line": {
              "color": "#E5ECF6",
              "width": 0.5
             }
            },
            "type": "barpolar"
           }
          ],
          "carpet": [
           {
            "aaxis": {
             "endlinecolor": "#2a3f5f",
             "gridcolor": "white",
             "linecolor": "white",
             "minorgridcolor": "white",
             "startlinecolor": "#2a3f5f"
            },
            "baxis": {
             "endlinecolor": "#2a3f5f",
             "gridcolor": "white",
             "linecolor": "white",
             "minorgridcolor": "white",
             "startlinecolor": "#2a3f5f"
            },
            "type": "carpet"
           }
          ],
          "choropleth": [
           {
            "colorbar": {
             "outlinewidth": 0,
             "ticks": ""
            },
            "type": "choropleth"
           }
          ],
          "contour": [
           {
            "colorbar": {
             "outlinewidth": 0,
             "ticks": ""
            },
            "colorscale": [
             [
              0,
              "#0d0887"
             ],
             [
              0.1111111111111111,
              "#46039f"
             ],
             [
              0.2222222222222222,
              "#7201a8"
             ],
             [
              0.3333333333333333,
              "#9c179e"
             ],
             [
              0.4444444444444444,
              "#bd3786"
             ],
             [
              0.5555555555555556,
              "#d8576b"
             ],
             [
              0.6666666666666666,
              "#ed7953"
             ],
             [
              0.7777777777777778,
              "#fb9f3a"
             ],
             [
              0.8888888888888888,
              "#fdca26"
             ],
             [
              1,
              "#f0f921"
             ]
            ],
            "type": "contour"
           }
          ],
          "contourcarpet": [
           {
            "colorbar": {
             "outlinewidth": 0,
             "ticks": ""
            },
            "type": "contourcarpet"
           }
          ],
          "heatmap": [
           {
            "colorbar": {
             "outlinewidth": 0,
             "ticks": ""
            },
            "colorscale": [
             [
              0,
              "#0d0887"
             ],
             [
              0.1111111111111111,
              "#46039f"
             ],
             [
              0.2222222222222222,
              "#7201a8"
             ],
             [
              0.3333333333333333,
              "#9c179e"
             ],
             [
              0.4444444444444444,
              "#bd3786"
             ],
             [
              0.5555555555555556,
              "#d8576b"
             ],
             [
              0.6666666666666666,
              "#ed7953"
             ],
             [
              0.7777777777777778,
              "#fb9f3a"
             ],
             [
              0.8888888888888888,
              "#fdca26"
             ],
             [
              1,
              "#f0f921"
             ]
            ],
            "type": "heatmap"
           }
          ],
          "heatmapgl": [
           {
            "colorbar": {
             "outlinewidth": 0,
             "ticks": ""
            },
            "colorscale": [
             [
              0,
              "#0d0887"
             ],
             [
              0.1111111111111111,
              "#46039f"
             ],
             [
              0.2222222222222222,
              "#7201a8"
             ],
             [
              0.3333333333333333,
              "#9c179e"
             ],
             [
              0.4444444444444444,
              "#bd3786"
             ],
             [
              0.5555555555555556,
              "#d8576b"
             ],
             [
              0.6666666666666666,
              "#ed7953"
             ],
             [
              0.7777777777777778,
              "#fb9f3a"
             ],
             [
              0.8888888888888888,
              "#fdca26"
             ],
             [
              1,
              "#f0f921"
             ]
            ],
            "type": "heatmapgl"
           }
          ],
          "histogram": [
           {
            "marker": {
             "colorbar": {
              "outlinewidth": 0,
              "ticks": ""
             }
            },
            "type": "histogram"
           }
          ],
          "histogram2d": [
           {
            "colorbar": {
             "outlinewidth": 0,
             "ticks": ""
            },
            "colorscale": [
             [
              0,
              "#0d0887"
             ],
             [
              0.1111111111111111,
              "#46039f"
             ],
             [
              0.2222222222222222,
              "#7201a8"
             ],
             [
              0.3333333333333333,
              "#9c179e"
             ],
             [
              0.4444444444444444,
              "#bd3786"
             ],
             [
              0.5555555555555556,
              "#d8576b"
             ],
             [
              0.6666666666666666,
              "#ed7953"
             ],
             [
              0.7777777777777778,
              "#fb9f3a"
             ],
             [
              0.8888888888888888,
              "#fdca26"
             ],
             [
              1,
              "#f0f921"
             ]
            ],
            "type": "histogram2d"
           }
          ],
          "histogram2dcontour": [
           {
            "colorbar": {
             "outlinewidth": 0,
             "ticks": ""
            },
            "colorscale": [
             [
              0,
              "#0d0887"
             ],
             [
              0.1111111111111111,
              "#46039f"
             ],
             [
              0.2222222222222222,
              "#7201a8"
             ],
             [
              0.3333333333333333,
              "#9c179e"
             ],
             [
              0.4444444444444444,
              "#bd3786"
             ],
             [
              0.5555555555555556,
              "#d8576b"
             ],
             [
              0.6666666666666666,
              "#ed7953"
             ],
             [
              0.7777777777777778,
              "#fb9f3a"
             ],
             [
              0.8888888888888888,
              "#fdca26"
             ],
             [
              1,
              "#f0f921"
             ]
            ],
            "type": "histogram2dcontour"
           }
          ],
          "mesh3d": [
           {
            "colorbar": {
             "outlinewidth": 0,
             "ticks": ""
            },
            "type": "mesh3d"
           }
          ],
          "parcoords": [
           {
            "line": {
             "colorbar": {
              "outlinewidth": 0,
              "ticks": ""
             }
            },
            "type": "parcoords"
           }
          ],
          "pie": [
           {
            "automargin": true,
            "type": "pie"
           }
          ],
          "scatter": [
           {
            "marker": {
             "colorbar": {
              "outlinewidth": 0,
              "ticks": ""
             }
            },
            "type": "scatter"
           }
          ],
          "scatter3d": [
           {
            "line": {
             "colorbar": {
              "outlinewidth": 0,
              "ticks": ""
             }
            },
            "marker": {
             "colorbar": {
              "outlinewidth": 0,
              "ticks": ""
             }
            },
            "type": "scatter3d"
           }
          ],
          "scattercarpet": [
           {
            "marker": {
             "colorbar": {
              "outlinewidth": 0,
              "ticks": ""
             }
            },
            "type": "scattercarpet"
           }
          ],
          "scattergeo": [
           {
            "marker": {
             "colorbar": {
              "outlinewidth": 0,
              "ticks": ""
             }
            },
            "type": "scattergeo"
           }
          ],
          "scattergl": [
           {
            "marker": {
             "colorbar": {
              "outlinewidth": 0,
              "ticks": ""
             }
            },
            "type": "scattergl"
           }
          ],
          "scattermapbox": [
           {
            "marker": {
             "colorbar": {
              "outlinewidth": 0,
              "ticks": ""
             }
            },
            "type": "scattermapbox"
           }
          ],
          "scatterpolar": [
           {
            "marker": {
             "colorbar": {
              "outlinewidth": 0,
              "ticks": ""
             }
            },
            "type": "scatterpolar"
           }
          ],
          "scatterpolargl": [
           {
            "marker": {
             "colorbar": {
              "outlinewidth": 0,
              "ticks": ""
             }
            },
            "type": "scatterpolargl"
           }
          ],
          "scatterternary": [
           {
            "marker": {
             "colorbar": {
              "outlinewidth": 0,
              "ticks": ""
             }
            },
            "type": "scatterternary"
           }
          ],
          "surface": [
           {
            "colorbar": {
             "outlinewidth": 0,
             "ticks": ""
            },
            "colorscale": [
             [
              0,
              "#0d0887"
             ],
             [
              0.1111111111111111,
              "#46039f"
             ],
             [
              0.2222222222222222,
              "#7201a8"
             ],
             [
              0.3333333333333333,
              "#9c179e"
             ],
             [
              0.4444444444444444,
              "#bd3786"
             ],
             [
              0.5555555555555556,
              "#d8576b"
             ],
             [
              0.6666666666666666,
              "#ed7953"
             ],
             [
              0.7777777777777778,
              "#fb9f3a"
             ],
             [
              0.8888888888888888,
              "#fdca26"
             ],
             [
              1,
              "#f0f921"
             ]
            ],
            "type": "surface"
           }
          ],
          "table": [
           {
            "cells": {
             "fill": {
              "color": "#EBF0F8"
             },
             "line": {
              "color": "white"
             }
            },
            "header": {
             "fill": {
              "color": "#C8D4E3"
             },
             "line": {
              "color": "white"
             }
            },
            "type": "table"
           }
          ]
         },
         "layout": {
          "annotationdefaults": {
           "arrowcolor": "#2a3f5f",
           "arrowhead": 0,
           "arrowwidth": 1
          },
          "coloraxis": {
           "colorbar": {
            "outlinewidth": 0,
            "ticks": ""
           }
          },
          "colorscale": {
           "diverging": [
            [
             0,
             "#8e0152"
            ],
            [
             0.1,
             "#c51b7d"
            ],
            [
             0.2,
             "#de77ae"
            ],
            [
             0.3,
             "#f1b6da"
            ],
            [
             0.4,
             "#fde0ef"
            ],
            [
             0.5,
             "#f7f7f7"
            ],
            [
             0.6,
             "#e6f5d0"
            ],
            [
             0.7,
             "#b8e186"
            ],
            [
             0.8,
             "#7fbc41"
            ],
            [
             0.9,
             "#4d9221"
            ],
            [
             1,
             "#276419"
            ]
           ],
           "sequential": [
            [
             0,
             "#0d0887"
            ],
            [
             0.1111111111111111,
             "#46039f"
            ],
            [
             0.2222222222222222,
             "#7201a8"
            ],
            [
             0.3333333333333333,
             "#9c179e"
            ],
            [
             0.4444444444444444,
             "#bd3786"
            ],
            [
             0.5555555555555556,
             "#d8576b"
            ],
            [
             0.6666666666666666,
             "#ed7953"
            ],
            [
             0.7777777777777778,
             "#fb9f3a"
            ],
            [
             0.8888888888888888,
             "#fdca26"
            ],
            [
             1,
             "#f0f921"
            ]
           ],
           "sequentialminus": [
            [
             0,
             "#0d0887"
            ],
            [
             0.1111111111111111,
             "#46039f"
            ],
            [
             0.2222222222222222,
             "#7201a8"
            ],
            [
             0.3333333333333333,
             "#9c179e"
            ],
            [
             0.4444444444444444,
             "#bd3786"
            ],
            [
             0.5555555555555556,
             "#d8576b"
            ],
            [
             0.6666666666666666,
             "#ed7953"
            ],
            [
             0.7777777777777778,
             "#fb9f3a"
            ],
            [
             0.8888888888888888,
             "#fdca26"
            ],
            [
             1,
             "#f0f921"
            ]
           ]
          },
          "colorway": [
           "#636efa",
           "#EF553B",
           "#00cc96",
           "#ab63fa",
           "#FFA15A",
           "#19d3f3",
           "#FF6692",
           "#B6E880",
           "#FF97FF",
           "#FECB52"
          ],
          "font": {
           "color": "#2a3f5f"
          },
          "geo": {
           "bgcolor": "white",
           "lakecolor": "white",
           "landcolor": "#E5ECF6",
           "showlakes": true,
           "showland": true,
           "subunitcolor": "white"
          },
          "hoverlabel": {
           "align": "left"
          },
          "hovermode": "closest",
          "mapbox": {
           "style": "light"
          },
          "paper_bgcolor": "white",
          "plot_bgcolor": "#E5ECF6",
          "polar": {
           "angularaxis": {
            "gridcolor": "white",
            "linecolor": "white",
            "ticks": ""
           },
           "bgcolor": "#E5ECF6",
           "radialaxis": {
            "gridcolor": "white",
            "linecolor": "white",
            "ticks": ""
           }
          },
          "scene": {
           "xaxis": {
            "backgroundcolor": "#E5ECF6",
            "gridcolor": "white",
            "gridwidth": 2,
            "linecolor": "white",
            "showbackground": true,
            "ticks": "",
            "zerolinecolor": "white"
           },
           "yaxis": {
            "backgroundcolor": "#E5ECF6",
            "gridcolor": "white",
            "gridwidth": 2,
            "linecolor": "white",
            "showbackground": true,
            "ticks": "",
            "zerolinecolor": "white"
           },
           "zaxis": {
            "backgroundcolor": "#E5ECF6",
            "gridcolor": "white",
            "gridwidth": 2,
            "linecolor": "white",
            "showbackground": true,
            "ticks": "",
            "zerolinecolor": "white"
           }
          },
          "shapedefaults": {
           "line": {
            "color": "#2a3f5f"
           }
          },
          "ternary": {
           "aaxis": {
            "gridcolor": "white",
            "linecolor": "white",
            "ticks": ""
           },
           "baxis": {
            "gridcolor": "white",
            "linecolor": "white",
            "ticks": ""
           },
           "bgcolor": "#E5ECF6",
           "caxis": {
            "gridcolor": "white",
            "linecolor": "white",
            "ticks": ""
           }
          },
          "title": {
           "x": 0.05
          },
          "xaxis": {
           "automargin": true,
           "gridcolor": "white",
           "linecolor": "white",
           "ticks": "",
           "title": {
            "standoff": 15
           },
           "zerolinecolor": "white",
           "zerolinewidth": 2
          },
          "yaxis": {
           "automargin": true,
           "gridcolor": "white",
           "linecolor": "white",
           "ticks": "",
           "title": {
            "standoff": 15
           },
           "zerolinecolor": "white",
           "zerolinewidth": 2
          }
         }
        },
        "title": {
         "text": "Распределение рейтингов по юзерам"
        },
        "xaxis": {
         "title": {
          "text": "Рейтинг по юзеру"
         }
        },
        "yaxis": {
         "title": {
          "text": "Количество"
         }
        }
       }
      },
      "text/html": [
       "<div>                            <div id=\"407b8f2c-d185-459b-9f6c-138b98b091fb\" class=\"plotly-graph-div\" style=\"height:525px; width:100%;\"></div>            <script type=\"text/javascript\">                require([\"plotly\"], function(Plotly) {                    window.PLOTLYENV=window.PLOTLYENV || {};                                    if (document.getElementById(\"407b8f2c-d185-459b-9f6c-138b98b091fb\")) {                    Plotly.newPlot(                        \"407b8f2c-d185-459b-9f6c-138b98b091fb\",                        [{\"name\": \"Ratings\", \"type\": \"histogram\", \"x\": [5, 29, 5, 10, 5, 6, 6, 8, 6, 5, 16, 9, 8, 9, 5, 10, 8, 6, 15, 8, 8, 5, 5, 24, 7, 11, 7, 5, 5, 5, 5, 5, 5, 5, 7, 22, 12, 7, 5, 5, 9, 5, 5, 5, 5, 9, 9, 12, 8, 6, 8, 6, 5, 5, 11, 5, 5, 5, 7, 5, 5, 5, 18, 6, 5, 10, 7, 12, 13, 6, 5, 5, 6, 5, 5, 6, 5, 13, 9, 5, 5, 5, 6, 7, 5, 5, 8, 7, 5, 13, 6, 12, 5, 7, 9, 5, 7, 8, 5, 6, 9, 7, 8, 5, 7, 5, 6, 10, 6, 5, 5, 8, 10, 6, 7, 7, 6, 5, 5, 5, 5, 6, 5, 5, 6, 13, 7, 8, 14, 5, 6, 5, 8, 9, 6, 5, 5, 5, 11, 5, 5, 6, 5, 6, 5, 7, 7, 5, 5, 7, 8, 9, 6, 5, 8, 5, 8, 5, 5, 9, 15, 6, 6, 13, 9, 6, 9, 12, 5, 5, 5, 7, 5, 6, 5, 7, 8, 5, 9, 5, 9, 5, 5, 6, 7, 5, 5, 5, 7, 10, 12, 7, 5, 5, 5, 9, 8, 5, 5, 5, 5, 6, 14, 5, 6, 11, 6, 20, 5, 6, 20, 5, 5, 5, 5, 5, 5, 6, 13, 5, 5, 6, 5, 6, 9, 10, 5, 20, 5, 12, 7, 5, 6, 5, 5, 6, 9, 5, 5, 5, 15, 10, 6, 5, 6, 8, 7, 5, 12, 5, 5, 5, 6, 7, 21, 6, 6, 9, 5, 5, 7, 5, 6, 7, 7, 6, 5, 15, 9, 5, 8, 8, 5, 5, 5, 8, 5, 5, 5, 7, 14, 5, 11, 8, 5, 12, 6, 5, 9, 5, 5, 9, 6, 7, 5, 8, 7, 6, 5, 5, 6, 5, 5, 12, 21, 5, 8, 5, 5, 6, 6, 5, 6, 10, 8, 5, 5, 6, 8, 5, 5, 5, 5, 5, 5, 6, 8, 5, 8, 5, 5, 5, 8, 9, 12, 8, 5, 6, 4, 5, 5, 5, 6, 8, 5, 5, 5, 5, 6, 10, 7, 7, 6, 10, 8, 5, 5, 8, 5, 6, 5, 5, 7, 5, 5, 6, 7, 5, 6, 8, 5, 5, 5, 5, 6, 8, 6, 7, 6, 9, 8, 6, 6, 5, 5, 5, 5, 6, 6, 5, 5, 5, 24, 6, 5, 5, 8, 7, 5, 6, 5, 8, 5, 5, 5, 9, 5, 5, 5, 11, 5, 5, 9, 5, 5, 6, 5, 5, 5, 6, 5, 11, 5, 6, 15, 10, 7, 5, 5, 5, 5, 6, 7, 6, 9, 5, 5, 11, 13, 7, 5, 5, 6, 6, 5, 7, 9, 5, 6, 7, 5, 19, 6, 6, 5, 8, 6, 7, 5, 5, 7, 5, 5, 6, 6, 6, 5, 5, 6, 7, 7, 9, 5, 7, 5, 13, 12, 7, 5, 5, 9, 6, 5, 11, 5, 7, 5, 38, 8, 6, 5, 5, 5, 5, 5, 5, 5, 5, 7, 5, 5, 6, 8, 11, 5, 5, 6, 5, 5, 5, 50, 7, 8, 6, 12, 6, 6, 5, 5, 10, 7, 10, 7, 5, 9, 17, 6, 5, 6, 5, 5, 6, 5, 5, 5, 17, 7, 7, 5, 5, 7, 5, 6, 7, 7, 9, 8, 10, 9, 8, 5, 12, 5, 5, 7, 12, 25, 5, 5, 6, 5, 5, 6, 11, 13, 12, 6, 5, 10, 6, 5, 5, 6, 9, 7, 5, 8, 10, 6, 7, 8, 6, 5, 6, 7, 5, 7, 8, 5, 7, 5, 5, 5, 5, 5, 7, 9, 5, 5, 5, 6, 7, 5, 5, 5, 5, 5, 5, 8, 5, 5, 9, 6, 5, 7, 23, 5, 5, 5, 5, 13, 4, 20, 5, 5, 5, 5, 5, 10, 11, 6, 6, 8, 7, 5, 5, 5, 5, 6, 5, 6, 9, 6, 12, 5, 13, 6, 8, 6, 6, 9, 5, 5, 9, 5, 13, 5, 6, 10, 6, 12, 5, 5, 6, 5, 7, 7, 5, 18, 5, 5, 10, 5, 5, 5, 5, 8, 8, 5, 6, 5, 5, 5, 5, 15, 21, 5, 5, 5, 5, 10, 6, 5, 10, 7, 11, 6, 6, 5, 5, 5, 5, 7, 6, 6, 9, 9, 8, 6, 8, 5, 7, 5, 6, 6, 12, 5, 7, 5, 8, 9, 8, 5, 7, 5, 8, 5, 5, 16, 5, 8, 17, 10, 6, 6, 7, 6, 8, 5, 5, 11, 5, 5, 6, 6, 6, 9, 6, 6, 10, 5, 5, 6, 7, 5, 9, 14, 5, 8, 7, 5, 5, 24, 7, 6, 5, 5, 5, 9, 5, 8, 10, 5, 5, 6, 6, 5, 5, 7, 5, 8, 5, 5, 5, 6, 5, 5, 6, 7, 5, 5, 5, 7, 8, 5, 8, 5, 5, 15, 5, 8, 5, 5, 26, 7, 6, 11, 5, 5, 7, 5, 8, 5, 5, 10, 6, 19, 8, 5, 6, 10, 5, 6, 6, 5, 6, 5, 10, 7, 5, 7, 10, 5, 6, 6, 13, 5, 5, 5, 7, 13, 6, 5, 6, 5, 5, 7, 5, 8, 5, 8, 5, 13, 5, 6, 7, 7, 23, 5, 9, 9, 10, 10, 9, 5, 6, 7, 5, 5, 6, 5, 5, 7, 5, 5, 6, 8, 5, 5, 5, 11, 14, 14, 6, 5, 9, 5, 6, 10, 6, 6, 6, 8, 5, 8, 5, 5, 8, 12, 6, 6, 13, 13, 14, 5, 5, 6, 5, 5, 6, 7, 5, 6, 14, 5, 6, 5, 5, 7, 5, 6, 5, 8, 5, 8, 12, 10, 5, 5, 5, 9, 8, 6, 5, 5, 16, 6, 5, 6, 5, 5, 8, 5, 12, 5, 5, 6, 6, 5, 7, 8, 5, 5, 5, 7, 5, 5, 6, 6, 6, 8, 7, 5, 7, 5, 5, 7, 7, 5, 29, 5, 5, 7, 7, 7, 6, 5, 6, 8, 7, 15, 5, 5, 5, 5, 7, 5, 5, 5, 7, 5, 6, 7, 10, 6, 5, 5, 5, 17, 9, 5, 5, 5, 6, 8, 5, 12, 6, 5, 6, 5, 8, 5, 5, 7, 5, 6, 5, 5, 5, 7, 6, 5, 13, 7, 5, 5, 20, 5, 9, 5, 6, 5, 8, 5, 7, 5, 5, 6, 8, 5, 5, 6, 5, 5, 6, 5, 5, 6, 5, 9, 5, 7, 19, 7, 9, 5, 8, 6, 7, 5, 5, 5, 9, 7, 8, 5, 6, 6, 5, 5, 5, 5, 5, 7, 5, 7, 5, 5, 9, 5, 7, 11, 5, 5, 5, 5, 5, 6, 5, 11, 6, 5, 5, 7, 5, 5, 10, 26, 5, 10, 5, 5, 5, 9, 6, 5, 9, 7, 6, 18, 5, 5, 18, 5, 6, 9, 6, 5, 5, 5, 5, 5, 5, 7, 5, 6, 6, 6, 5, 5, 6, 6, 6, 8, 16, 5, 5, 11, 5, 11, 7, 10, 1, 5, 8, 6, 5, 22, 5, 6, 6, 8, 9, 19, 5, 5, 7, 8, 5, 9, 5, 5, 8, 5, 15, 5, 11, 5, 5, 6, 5, 6, 7, 5, 5, 5, 5, 5, 7, 6, 9, 8, 5, 6, 5, 5, 8, 5, 8, 5, 5, 7, 8, 6, 5, 5, 5, 6, 6, 7, 5, 5, 8, 7, 5, 5, 16, 7, 5, 5, 15, 5, 7, 6, 20, 6, 5, 5, 6, 12, 6, 7, 5, 6, 5, 11, 10, 5, 5, 5, 5, 5, 6, 7, 5, 5, 5, 17, 9, 5, 6, 6, 5, 10, 9, 18, 9, 5, 5, 11, 7, 15, 5, 6, 5, 6, 5, 5, 6, 7, 7, 10, 6, 15, 8, 6, 24, 5, 5, 11, 5, 6, 10, 5, 8, 5, 5, 7, 5, 5, 5, 13, 5, 6, 5, 6, 5, 5, 6, 12, 5, 6, 6, 5, 7, 9, 5, 10, 5, 17, 5, 7, 5, 7, 8, 7, 8, 5, 5, 5, 6, 6, 5, 5, 6, 5, 5, 7, 14, 5, 5, 6, 5, 9, 5, 9, 5, 6, 11, 5, 9, 5, 5, 15, 7, 5, 6, 5, 5, 5, 5, 5, 5, 5, 12, 5, 7, 5, 5, 9, 7, 5, 5, 6, 7, 5, 5, 8, 8, 6, 5, 5, 5, 8, 5, 8, 5, 6, 6, 16, 11, 5, 6, 5, 6, 5, 5, 22, 6, 6, 5, 6, 11, 5, 6, 5, 8, 8, 5, 6, 5, 11, 5, 5, 7, 5, 7, 6, 5, 5, 23, 17, 6, 9, 5, 9, 5, 45, 5, 9, 5, 5, 5, 6, 6, 5, 5, 6, 17, 8, 5, 5, 11, 8, 20, 7, 9, 5, 12, 5, 6, 5, 5, 5, 9, 5, 6, 5, 6, 7, 7, 5, 7, 5, 5, 5, 5, 5, 10, 5, 5, 5, 5, 5, 8, 5, 13, 6, 7, 5, 5, 5, 6, 6, 9, 5, 5, 10, 7, 5, 6, 5, 9, 5, 6, 5, 8, 5, 9, 14, 6, 5, 5, 5, 13, 6, 6, 7, 6, 8, 6, 5, 6, 5, 16, 6, 5, 11, 7, 10, 5, 6, 5, 9, 12, 5, 8, 5, 6, 5, 6, 12, 5, 14, 6, 6, 7, 11, 5, 7, 5, 5, 8, 5, 5, 5, 6, 5, 7, 5, 9, 5, 5, 5, 5, 6, 5, 9, 5, 7, 6, 5, 6, 6, 14, 7, 6, 18, 6, 5, 9, 14, 7, 5, 5, 5, 5, 5, 10, 5, 9, 7, 5, 7, 5, 9, 9, 5, 6, 8, 5, 6, 6, 11, 6, 21, 11, 5, 11, 5, 5, 8, 10, 5, 6, 5, 6, 7, 6, 8, 5, 5, 5, 5, 5, 5, 5, 5, 7, 9, 9, 6, 6, 5, 5, 5, 5, 5, 5, 5, 5, 5, 7, 5, 5, 5, 5, 6, 6, 11, 5, 5, 7, 6, 5, 5, 5, 5, 6, 5, 7, 5, 5, 6, 6, 5, 22, 5, 10, 13, 8, 12, 9, 10, 5, 5, 5, 5, 5, 8, 5, 5, 8, 6, 5, 6, 21, 6, 5, 9, 12, 5, 6, 9, 6, 8, 5, 5, 8, 6, 5, 6, 5, 11, 6, 7, 5, 5, 5, 5, 5, 7, 5, 5, 5, 10, 5, 31, 9, 6, 5, 6, 5, 7, 5, 6, 5, 8, 5, 5, 5, 9, 5, 5, 9, 5, 7, 5, 5, 16, 8, 6, 5, 7, 6, 5, 6, 8, 9, 12, 5, 7, 6, 7, 7, 5, 9, 6, 6, 5, 17, 23, 5, 11, 5, 5, 5, 7, 5, 8, 5, 5, 10, 5, 6, 5, 5, 5, 9, 6, 6, 5, 5, 5, 6, 5, 5, 6, 6, 19, 6, 5, 5, 5, 5, 7, 6, 9, 6, 6, 7, 6, 7, 7, 5, 5, 6, 11, 5, 7, 5, 8, 7, 9, 5, 5, 7, 5, 7, 9, 6, 9, 5, 5, 7, 5, 5, 10, 6, 5, 5, 5, 7, 7, 10, 17, 7, 9, 11, 5, 5, 5, 8, 5, 5, 5, 15, 5, 5, 5, 15, 5, 6, 8, 5], \"xbins\": {\"end\": 50, \"size\": 2, \"start\": 0}}],                        {\"bargap\": 0.2, \"template\": {\"data\": {\"bar\": [{\"error_x\": {\"color\": \"#2a3f5f\"}, \"error_y\": {\"color\": \"#2a3f5f\"}, \"marker\": {\"line\": {\"color\": \"#E5ECF6\", \"width\": 0.5}}, \"type\": \"bar\"}], \"barpolar\": [{\"marker\": {\"line\": {\"color\": \"#E5ECF6\", \"width\": 0.5}}, \"type\": \"barpolar\"}], \"carpet\": [{\"aaxis\": {\"endlinecolor\": \"#2a3f5f\", \"gridcolor\": \"white\", \"linecolor\": \"white\", \"minorgridcolor\": \"white\", \"startlinecolor\": \"#2a3f5f\"}, \"baxis\": {\"endlinecolor\": \"#2a3f5f\", \"gridcolor\": \"white\", \"linecolor\": \"white\", \"minorgridcolor\": \"white\", \"startlinecolor\": \"#2a3f5f\"}, \"type\": \"carpet\"}], \"choropleth\": [{\"colorbar\": {\"outlinewidth\": 0, \"ticks\": \"\"}, \"type\": \"choropleth\"}], \"contour\": [{\"colorbar\": {\"outlinewidth\": 0, \"ticks\": \"\"}, \"colorscale\": [[0.0, \"#0d0887\"], [0.1111111111111111, \"#46039f\"], [0.2222222222222222, \"#7201a8\"], [0.3333333333333333, \"#9c179e\"], [0.4444444444444444, \"#bd3786\"], [0.5555555555555556, \"#d8576b\"], [0.6666666666666666, \"#ed7953\"], [0.7777777777777778, \"#fb9f3a\"], [0.8888888888888888, \"#fdca26\"], [1.0, \"#f0f921\"]], \"type\": \"contour\"}], \"contourcarpet\": [{\"colorbar\": {\"outlinewidth\": 0, \"ticks\": \"\"}, \"type\": \"contourcarpet\"}], \"heatmap\": [{\"colorbar\": {\"outlinewidth\": 0, \"ticks\": \"\"}, \"colorscale\": [[0.0, \"#0d0887\"], [0.1111111111111111, \"#46039f\"], [0.2222222222222222, \"#7201a8\"], [0.3333333333333333, \"#9c179e\"], [0.4444444444444444, \"#bd3786\"], [0.5555555555555556, \"#d8576b\"], [0.6666666666666666, \"#ed7953\"], [0.7777777777777778, \"#fb9f3a\"], [0.8888888888888888, \"#fdca26\"], [1.0, \"#f0f921\"]], \"type\": \"heatmap\"}], \"heatmapgl\": [{\"colorbar\": {\"outlinewidth\": 0, \"ticks\": \"\"}, \"colorscale\": [[0.0, \"#0d0887\"], [0.1111111111111111, \"#46039f\"], [0.2222222222222222, \"#7201a8\"], [0.3333333333333333, \"#9c179e\"], [0.4444444444444444, \"#bd3786\"], [0.5555555555555556, \"#d8576b\"], [0.6666666666666666, \"#ed7953\"], [0.7777777777777778, \"#fb9f3a\"], [0.8888888888888888, \"#fdca26\"], [1.0, \"#f0f921\"]], \"type\": \"heatmapgl\"}], \"histogram\": [{\"marker\": {\"colorbar\": {\"outlinewidth\": 0, \"ticks\": \"\"}}, \"type\": \"histogram\"}], \"histogram2d\": [{\"colorbar\": {\"outlinewidth\": 0, \"ticks\": \"\"}, \"colorscale\": [[0.0, \"#0d0887\"], [0.1111111111111111, \"#46039f\"], [0.2222222222222222, \"#7201a8\"], [0.3333333333333333, \"#9c179e\"], [0.4444444444444444, \"#bd3786\"], [0.5555555555555556, \"#d8576b\"], [0.6666666666666666, \"#ed7953\"], [0.7777777777777778, \"#fb9f3a\"], [0.8888888888888888, \"#fdca26\"], [1.0, \"#f0f921\"]], \"type\": \"histogram2d\"}], \"histogram2dcontour\": [{\"colorbar\": {\"outlinewidth\": 0, \"ticks\": \"\"}, \"colorscale\": [[0.0, \"#0d0887\"], [0.1111111111111111, \"#46039f\"], [0.2222222222222222, \"#7201a8\"], [0.3333333333333333, \"#9c179e\"], [0.4444444444444444, \"#bd3786\"], [0.5555555555555556, \"#d8576b\"], [0.6666666666666666, \"#ed7953\"], [0.7777777777777778, \"#fb9f3a\"], [0.8888888888888888, \"#fdca26\"], [1.0, \"#f0f921\"]], \"type\": \"histogram2dcontour\"}], \"mesh3d\": [{\"colorbar\": {\"outlinewidth\": 0, \"ticks\": \"\"}, \"type\": \"mesh3d\"}], \"parcoords\": [{\"line\": {\"colorbar\": {\"outlinewidth\": 0, \"ticks\": \"\"}}, \"type\": \"parcoords\"}], \"pie\": [{\"automargin\": true, \"type\": \"pie\"}], \"scatter\": [{\"marker\": {\"colorbar\": {\"outlinewidth\": 0, \"ticks\": \"\"}}, \"type\": \"scatter\"}], \"scatter3d\": [{\"line\": {\"colorbar\": {\"outlinewidth\": 0, \"ticks\": \"\"}}, \"marker\": {\"colorbar\": {\"outlinewidth\": 0, \"ticks\": \"\"}}, \"type\": \"scatter3d\"}], \"scattercarpet\": [{\"marker\": {\"colorbar\": {\"outlinewidth\": 0, \"ticks\": \"\"}}, \"type\": \"scattercarpet\"}], \"scattergeo\": [{\"marker\": {\"colorbar\": {\"outlinewidth\": 0, \"ticks\": \"\"}}, \"type\": \"scattergeo\"}], \"scattergl\": [{\"marker\": {\"colorbar\": {\"outlinewidth\": 0, \"ticks\": \"\"}}, \"type\": \"scattergl\"}], \"scattermapbox\": [{\"marker\": {\"colorbar\": {\"outlinewidth\": 0, \"ticks\": \"\"}}, \"type\": \"scattermapbox\"}], \"scatterpolar\": [{\"marker\": {\"colorbar\": {\"outlinewidth\": 0, \"ticks\": \"\"}}, \"type\": \"scatterpolar\"}], \"scatterpolargl\": [{\"marker\": {\"colorbar\": {\"outlinewidth\": 0, \"ticks\": \"\"}}, \"type\": \"scatterpolargl\"}], \"scatterternary\": [{\"marker\": {\"colorbar\": {\"outlinewidth\": 0, \"ticks\": \"\"}}, \"type\": \"scatterternary\"}], \"surface\": [{\"colorbar\": {\"outlinewidth\": 0, \"ticks\": \"\"}, \"colorscale\": [[0.0, \"#0d0887\"], [0.1111111111111111, \"#46039f\"], [0.2222222222222222, \"#7201a8\"], [0.3333333333333333, \"#9c179e\"], [0.4444444444444444, \"#bd3786\"], [0.5555555555555556, \"#d8576b\"], [0.6666666666666666, \"#ed7953\"], [0.7777777777777778, \"#fb9f3a\"], [0.8888888888888888, \"#fdca26\"], [1.0, \"#f0f921\"]], \"type\": \"surface\"}], \"table\": [{\"cells\": {\"fill\": {\"color\": \"#EBF0F8\"}, \"line\": {\"color\": \"white\"}}, \"header\": {\"fill\": {\"color\": \"#C8D4E3\"}, \"line\": {\"color\": \"white\"}}, \"type\": \"table\"}]}, \"layout\": {\"annotationdefaults\": {\"arrowcolor\": \"#2a3f5f\", \"arrowhead\": 0, \"arrowwidth\": 1}, \"coloraxis\": {\"colorbar\": {\"outlinewidth\": 0, \"ticks\": \"\"}}, \"colorscale\": {\"diverging\": [[0, \"#8e0152\"], [0.1, \"#c51b7d\"], [0.2, \"#de77ae\"], [0.3, \"#f1b6da\"], [0.4, \"#fde0ef\"], [0.5, \"#f7f7f7\"], [0.6, \"#e6f5d0\"], [0.7, \"#b8e186\"], [0.8, \"#7fbc41\"], [0.9, \"#4d9221\"], [1, \"#276419\"]], \"sequential\": [[0.0, \"#0d0887\"], [0.1111111111111111, \"#46039f\"], [0.2222222222222222, \"#7201a8\"], [0.3333333333333333, \"#9c179e\"], [0.4444444444444444, \"#bd3786\"], [0.5555555555555556, \"#d8576b\"], [0.6666666666666666, \"#ed7953\"], [0.7777777777777778, \"#fb9f3a\"], [0.8888888888888888, \"#fdca26\"], [1.0, \"#f0f921\"]], \"sequentialminus\": [[0.0, \"#0d0887\"], [0.1111111111111111, \"#46039f\"], [0.2222222222222222, \"#7201a8\"], [0.3333333333333333, \"#9c179e\"], [0.4444444444444444, \"#bd3786\"], [0.5555555555555556, \"#d8576b\"], [0.6666666666666666, \"#ed7953\"], [0.7777777777777778, \"#fb9f3a\"], [0.8888888888888888, \"#fdca26\"], [1.0, \"#f0f921\"]]}, \"colorway\": [\"#636efa\", \"#EF553B\", \"#00cc96\", \"#ab63fa\", \"#FFA15A\", \"#19d3f3\", \"#FF6692\", \"#B6E880\", \"#FF97FF\", \"#FECB52\"], \"font\": {\"color\": \"#2a3f5f\"}, \"geo\": {\"bgcolor\": \"white\", \"lakecolor\": \"white\", \"landcolor\": \"#E5ECF6\", \"showlakes\": true, \"showland\": true, \"subunitcolor\": \"white\"}, \"hoverlabel\": {\"align\": \"left\"}, \"hovermode\": \"closest\", \"mapbox\": {\"style\": \"light\"}, \"paper_bgcolor\": \"white\", \"plot_bgcolor\": \"#E5ECF6\", \"polar\": {\"angularaxis\": {\"gridcolor\": \"white\", \"linecolor\": \"white\", \"ticks\": \"\"}, \"bgcolor\": \"#E5ECF6\", \"radialaxis\": {\"gridcolor\": \"white\", \"linecolor\": \"white\", \"ticks\": \"\"}}, \"scene\": {\"xaxis\": {\"backgroundcolor\": \"#E5ECF6\", \"gridcolor\": \"white\", \"gridwidth\": 2, \"linecolor\": \"white\", \"showbackground\": true, \"ticks\": \"\", \"zerolinecolor\": \"white\"}, \"yaxis\": {\"backgroundcolor\": \"#E5ECF6\", \"gridcolor\": \"white\", \"gridwidth\": 2, \"linecolor\": \"white\", \"showbackground\": true, \"ticks\": \"\", \"zerolinecolor\": \"white\"}, \"zaxis\": {\"backgroundcolor\": \"#E5ECF6\", \"gridcolor\": \"white\", \"gridwidth\": 2, \"linecolor\": \"white\", \"showbackground\": true, \"ticks\": \"\", \"zerolinecolor\": \"white\"}}, \"shapedefaults\": {\"line\": {\"color\": \"#2a3f5f\"}}, \"ternary\": {\"aaxis\": {\"gridcolor\": \"white\", \"linecolor\": \"white\", \"ticks\": \"\"}, \"baxis\": {\"gridcolor\": \"white\", \"linecolor\": \"white\", \"ticks\": \"\"}, \"bgcolor\": \"#E5ECF6\", \"caxis\": {\"gridcolor\": \"white\", \"linecolor\": \"white\", \"ticks\": \"\"}}, \"title\": {\"x\": 0.05}, \"xaxis\": {\"automargin\": true, \"gridcolor\": \"white\", \"linecolor\": \"white\", \"ticks\": \"\", \"title\": {\"standoff\": 15}, \"zerolinecolor\": \"white\", \"zerolinewidth\": 2}, \"yaxis\": {\"automargin\": true, \"gridcolor\": \"white\", \"linecolor\": \"white\", \"ticks\": \"\", \"title\": {\"standoff\": 15}, \"zerolinecolor\": \"white\", \"zerolinewidth\": 2}}}, \"title\": {\"text\": \"\\u0420\\u0430\\u0441\\u043f\\u0440\\u0435\\u0434\\u0435\\u043b\\u0435\\u043d\\u0438\\u0435 \\u0440\\u0435\\u0439\\u0442\\u0438\\u043d\\u0433\\u043e\\u0432 \\u043f\\u043e \\u044e\\u0437\\u0435\\u0440\\u0430\\u043c\"}, \"xaxis\": {\"title\": {\"text\": \"\\u0420\\u0435\\u0439\\u0442\\u0438\\u043d\\u0433 \\u043f\\u043e \\u044e\\u0437\\u0435\\u0440\\u0443\"}}, \"yaxis\": {\"title\": {\"text\": \"\\u041a\\u043e\\u043b\\u0438\\u0447\\u0435\\u0441\\u0442\\u0432\\u043e\"}}},                        {\"responsive\": true}                    ).then(function(){\n",
       "                            \n",
       "var gd = document.getElementById('407b8f2c-d185-459b-9f6c-138b98b091fb');\n",
       "var x = new MutationObserver(function (mutations, observer) {{\n",
       "        var display = window.getComputedStyle(gd).display;\n",
       "        if (!display || display === 'none') {{\n",
       "            console.log([gd, 'removed!']);\n",
       "            Plotly.purge(gd);\n",
       "            observer.disconnect();\n",
       "        }}\n",
       "}});\n",
       "\n",
       "// Listen for the removal of the full notebook cells\n",
       "var notebookContainer = gd.closest('#notebook-container');\n",
       "if (notebookContainer) {{\n",
       "    x.observe(notebookContainer, {childList: true});\n",
       "}}\n",
       "\n",
       "// Listen for the clearing of the current output cell\n",
       "var outputEl = gd.closest('.output');\n",
       "if (outputEl) {{\n",
       "    x.observe(outputEl, {childList: true});\n",
       "}}\n",
       "\n",
       "                        })                };                });            </script>        </div>"
      ]
     },
     "metadata": {},
     "output_type": "display_data"
    }
   ],
   "source": [
    "data = df.groupby('user')['rating'].count().clip(upper=50)\n",
    "\n",
    "trace = go.Histogram(x = data.values,\n",
    "                     name = 'Ratings',\n",
    "                     xbins = dict(start = 0,\n",
    "                                  end = 50,\n",
    "                                  size = 2))\n",
    "layout = go.Layout(title = 'Распределение рейтингов по юзерам',\n",
    "                   xaxis = dict(title = 'Рейтинг по юзеру'),\n",
    "                   yaxis = dict(title = 'Количество'),\n",
    "                   bargap = 0.2)\n",
    "\n",
    "fig = go.Figure(data=[trace], layout=layout)\n",
    "iplot(fig)"
   ]
  },
  {
   "cell_type": "code",
   "execution_count": 8,
   "metadata": {},
   "outputs": [
    {
     "name": "stdout",
     "output_type": "stream",
     "text": [
      "Unique users count: 1826\n",
      "Unique movies count: 802\n",
      "DataFrame shape: (12805, 3)\n"
     ]
    }
   ],
   "source": [
    "print('Unique users count: {}'.format(len(df['user'].unique())))\n",
    "print('Unique movies count: {}'.format(len(df['product'].unique())))\n",
    "print('DataFrame shape: {}'.format(df.shape))"
   ]
  },
  {
   "cell_type": "markdown",
   "metadata": {},
   "source": [
    "Подготовим данные в виде матрицы, для этого пронумеруем продукты и юзеров и добавим столбцы"
   ]
  },
  {
   "cell_type": "code",
   "execution_count": 9,
   "metadata": {},
   "outputs": [
    {
     "data": {
      "text/html": [
       "<div>\n",
       "<style scoped>\n",
       "    .dataframe tbody tr th:only-of-type {\n",
       "        vertical-align: middle;\n",
       "    }\n",
       "\n",
       "    .dataframe tbody tr th {\n",
       "        vertical-align: top;\n",
       "    }\n",
       "\n",
       "    .dataframe thead th {\n",
       "        text-align: right;\n",
       "    }\n",
       "</style>\n",
       "<table border=\"1\" class=\"dataframe\">\n",
       "  <thead>\n",
       "    <tr style=\"text-align: right;\">\n",
       "      <th></th>\n",
       "      <th>rating</th>\n",
       "      <th>user</th>\n",
       "      <th>product</th>\n",
       "      <th>item_num</th>\n",
       "      <th>user_num</th>\n",
       "    </tr>\n",
       "  </thead>\n",
       "  <tbody>\n",
       "    <tr>\n",
       "      <th>0</th>\n",
       "      <td>4.0</td>\n",
       "      <td>A38NELQT98S4H8</td>\n",
       "      <td>0321719816</td>\n",
       "      <td>1</td>\n",
       "      <td>1</td>\n",
       "    </tr>\n",
       "    <tr>\n",
       "      <th>1</th>\n",
       "      <td>4.0</td>\n",
       "      <td>A3QJU4FEN8PQSZ</td>\n",
       "      <td>0321719816</td>\n",
       "      <td>1</td>\n",
       "      <td>2</td>\n",
       "    </tr>\n",
       "    <tr>\n",
       "      <th>2</th>\n",
       "      <td>5.0</td>\n",
       "      <td>ACJT8MUC0LRF0</td>\n",
       "      <td>0321719816</td>\n",
       "      <td>1</td>\n",
       "      <td>3</td>\n",
       "    </tr>\n",
       "    <tr>\n",
       "      <th>3</th>\n",
       "      <td>5.0</td>\n",
       "      <td>AYUF7YETYOLNX</td>\n",
       "      <td>0321719816</td>\n",
       "      <td>1</td>\n",
       "      <td>4</td>\n",
       "    </tr>\n",
       "    <tr>\n",
       "      <th>4</th>\n",
       "      <td>5.0</td>\n",
       "      <td>A31ICLWQ9CSHRS</td>\n",
       "      <td>0321719816</td>\n",
       "      <td>1</td>\n",
       "      <td>5</td>\n",
       "    </tr>\n",
       "    <tr>\n",
       "      <th>...</th>\n",
       "      <td>...</td>\n",
       "      <td>...</td>\n",
       "      <td>...</td>\n",
       "      <td>...</td>\n",
       "      <td>...</td>\n",
       "    </tr>\n",
       "    <tr>\n",
       "      <th>12800</th>\n",
       "      <td>4.0</td>\n",
       "      <td>A1E50L7PCVXLN4</td>\n",
       "      <td>B01FFVDY9M</td>\n",
       "      <td>776</td>\n",
       "      <td>15</td>\n",
       "    </tr>\n",
       "    <tr>\n",
       "      <th>12801</th>\n",
       "      <td>3.0</td>\n",
       "      <td>AVU1ILDDYW301</td>\n",
       "      <td>B01HAP3NUG</td>\n",
       "      <td>778</td>\n",
       "      <td>564</td>\n",
       "    </tr>\n",
       "    <tr>\n",
       "      <th>12802</th>\n",
       "      <td>4.0</td>\n",
       "      <td>A2LW5AL0KQ9P1M</td>\n",
       "      <td>B01HAP3NUG</td>\n",
       "      <td>778</td>\n",
       "      <td>1386</td>\n",
       "    </tr>\n",
       "    <tr>\n",
       "      <th>12803</th>\n",
       "      <td>3.0</td>\n",
       "      <td>AZ515FFZ7I2P7</td>\n",
       "      <td>B01HAP47PQ</td>\n",
       "      <td>779</td>\n",
       "      <td>929</td>\n",
       "    </tr>\n",
       "    <tr>\n",
       "      <th>12804</th>\n",
       "      <td>4.0</td>\n",
       "      <td>A2WPL6Y08K6ZQH</td>\n",
       "      <td>B01HAP47PQ</td>\n",
       "      <td>779</td>\n",
       "      <td>1353</td>\n",
       "    </tr>\n",
       "  </tbody>\n",
       "</table>\n",
       "<p>12805 rows × 5 columns</p>\n",
       "</div>"
      ],
      "text/plain": [
       "       rating            user     product  item_num  user_num\n",
       "0         4.0  A38NELQT98S4H8  0321719816         1         1\n",
       "1         4.0  A3QJU4FEN8PQSZ  0321719816         1         2\n",
       "2         5.0   ACJT8MUC0LRF0  0321719816         1         3\n",
       "3         5.0   AYUF7YETYOLNX  0321719816         1         4\n",
       "4         5.0  A31ICLWQ9CSHRS  0321719816         1         5\n",
       "...       ...             ...         ...       ...       ...\n",
       "12800     4.0  A1E50L7PCVXLN4  B01FFVDY9M       776        15\n",
       "12801     3.0   AVU1ILDDYW301  B01HAP3NUG       778       564\n",
       "12802     4.0  A2LW5AL0KQ9P1M  B01HAP3NUG       778      1386\n",
       "12803     3.0   AZ515FFZ7I2P7  B01HAP47PQ       779       929\n",
       "12804     4.0  A2WPL6Y08K6ZQH  B01HAP47PQ       779      1353\n",
       "\n",
       "[12805 rows x 5 columns]"
      ]
     },
     "execution_count": 9,
     "metadata": {},
     "output_type": "execute_result"
    }
   ],
   "source": [
    "products = df['product'].unique()\n",
    "users = df['user'].unique()\n",
    "# products\n",
    "\n",
    "\n",
    "def scale_product(item):\n",
    "    scaled = np.where(products == item)[0][0] + 1\n",
    "    return scaled\n",
    "\n",
    "def scale_user(item):\n",
    "    scaled = np.where(users == item)[0][0] + 1\n",
    "    return scaled\n",
    "\n",
    "df['item_num'] = df['product'].apply(scale_product)\n",
    "df['user_num'] = df['user'].apply(scale_user)\n",
    "df"
   ]
  },
  {
   "cell_type": "code",
   "execution_count": 10,
   "metadata": {},
   "outputs": [
    {
     "name": "stdout",
     "output_type": "stream",
     "text": [
      "Train shape: (10244, 5)\n",
      "Test shape: (2561, 5)\n"
     ]
    }
   ],
   "source": [
    "train_data, test_data = train_test_split(df, test_size=0.2)\n",
    "\n",
    "print('Train shape: {}'.format(train_data.shape))\n",
    "print('Test shape: {}'.format(test_data.shape))"
   ]
  },
  {
   "cell_type": "code",
   "execution_count": 11,
   "metadata": {},
   "outputs": [],
   "source": [
    "def rmse(prediction, ground_truth):\n",
    "    # Оставим оценки, предсказанные алгоритмом, только для соотвествующего набора данных\n",
    "    prediction = np.nan_to_num(prediction)[ground_truth.nonzero()].flatten()\n",
    "    # Оставим оценки, которые реально поставил пользователь, только для соотвествующего набора данных\n",
    "    ground_truth = np.nan_to_num(ground_truth)[ground_truth.nonzero()].flatten()\n",
    "    \n",
    "    mse = mean_squared_error(prediction, ground_truth)\n",
    "    return sqrt(mse)"
   ]
  },
  {
   "cell_type": "markdown",
   "metadata": {},
   "source": [
    "Собрираем матрицы для тренировочных и тестовых данных"
   ]
  },
  {
   "cell_type": "code",
   "execution_count": 12,
   "metadata": {},
   "outputs": [],
   "source": [
    "n_users = len(df['user'].unique())\n",
    "n_products = len(df['product'].unique())\n",
    "\n",
    "train_data_matrix = np.zeros((n_users, n_products))\n",
    "train_data_matrix\n",
    "for line in train_data.itertuples():\n",
    "    train_data_matrix[line[5] - 1, line[4] - 1] = line[1]\n",
    "    \n",
    "test_data_matrix = np.zeros((n_users, n_products))\n",
    "for line in test_data.itertuples():\n",
    "    test_data_matrix[line[5] - 1, line[4] - 1] = line[1]"
   ]
  },
  {
   "cell_type": "code",
   "execution_count": 13,
   "metadata": {},
   "outputs": [
    {
     "data": {
      "text/plain": [
       "array([[4., 0., 0., ..., 0., 0., 0.],\n",
       "       [4., 0., 4., ..., 0., 0., 0.],\n",
       "       [5., 0., 0., ..., 0., 0., 0.],\n",
       "       ...,\n",
       "       [0., 0., 0., ..., 0., 0., 0.],\n",
       "       [0., 0., 0., ..., 0., 0., 0.],\n",
       "       [0., 0., 0., ..., 0., 0., 0.]])"
      ]
     },
     "execution_count": 13,
     "metadata": {},
     "output_type": "execute_result"
    }
   ],
   "source": [
    "train_data_matrix"
   ]
  },
  {
   "cell_type": "code",
   "execution_count": 14,
   "metadata": {},
   "outputs": [],
   "source": [
    "user_similarity = pairwise_distances(train_data_matrix, metric='cosine')\n",
    "product_similarity = pairwise_distances(train_data_matrix.T, metric='cosine')"
   ]
  },
  {
   "cell_type": "markdown",
   "metadata": {},
   "source": [
    "## Обучаем модели"
   ]
  },
  {
   "cell_type": "markdown",
   "metadata": {},
   "source": [
    "### Наивные рекомедации"
   ]
  },
  {
   "cell_type": "code",
   "execution_count": 15,
   "metadata": {},
   "outputs": [
    {
     "name": "stdout",
     "output_type": "stream",
     "text": [
      "User-based CF RMSE:  3.8465073717989666\n",
      "Item-based CF RMSE:  3.741528704343827\n"
     ]
    }
   ],
   "source": [
    "def naive_predict(top):\n",
    "\n",
    "    top_similar_ratings = np.zeros((n_users, top, n_products))\n",
    "\n",
    "    for i in range(n_users):\n",
    "        top_sim_users = user_similarity[i].argsort()[1:top + 1]\n",
    "        top_similar_ratings[i] = train_data_matrix[top_sim_users]\n",
    "\n",
    "    pred = np.zeros((n_users, n_products))\n",
    "    for i in range(n_users):\n",
    "        pred[i] = top_similar_ratings[i].sum(axis=0) / top\n",
    "    \n",
    "    return pred\n",
    "\n",
    "\n",
    "def naive_predict_item(top):\n",
    "    top_similar_ratings = np.zeros((n_products, top, n_users))\n",
    "\n",
    "    for i in range(n_products):\n",
    "        top_sim_products = product_similarity[i].argsort()[1:top + 1]\n",
    "        top_similar_ratings[i] = train_data_matrix.T[top_sim_products]\n",
    "        \n",
    "    pred = np.zeros((n_products, n_users))\n",
    "    for i in range(n_products):\n",
    "        pred[i] = top_similar_ratings[i].sum(axis=0) / top\n",
    "    \n",
    "    return pred.T\n",
    "\n",
    "naive_pred = naive_predict(7)\n",
    "print('User-based CF RMSE: ', rmse(naive_pred, test_data_matrix))\n",
    "\n",
    "naive_pred_item = naive_predict_item(7)\n",
    "print('Item-based CF RMSE: ', rmse(naive_pred_item, test_data_matrix))"
   ]
  },
  {
   "cell_type": "markdown",
   "metadata": {},
   "source": [
    "### Рекомендации с учётом средних оценок похожих пользователей"
   ]
  },
  {
   "cell_type": "code",
   "execution_count": 16,
   "metadata": {},
   "outputs": [
    {
     "name": "stdout",
     "output_type": "stream",
     "text": [
      "User-based CF RMSE:  3.8716772091616045\n",
      "Item-based CF RMSE:  3.861062956880518\n"
     ]
    },
    {
     "name": "stderr",
     "output_type": "stream",
     "text": [
      "<ipython-input-16-354041d800ef>:22: RuntimeWarning:\n",
      "\n",
      "invalid value encountered in true_divide\n",
      "\n"
     ]
    }
   ],
   "source": [
    "def k_fract_predict(top):\n",
    "    top_similar = np.zeros((n_users, top))\n",
    "    \n",
    "    for i in range(n_users):\n",
    "        user_sim = user_similarity[i]\n",
    "        top_sim_users = user_sim.argsort()[1:top + 1]#[-top:]\n",
    "\n",
    "        for j in range(top):\n",
    "            top_similar[i, j] = top_sim_users[j]\n",
    "            \n",
    "    abs_sim = np.abs(user_similarity)\n",
    "    pred = np.zeros((n_users, n_products))\n",
    "    \n",
    "    for i in range(n_users):\n",
    "        indexes = top_similar[i].astype(np.int)\n",
    "        numerator = user_similarity[i][indexes]\n",
    "        \n",
    "        product = numerator.dot(train_data_matrix[indexes])\n",
    "        \n",
    "        denominator = abs_sim[i][top_similar[i].astype(np.int)].sum()\n",
    "        \n",
    "        pred[i] = product / denominator\n",
    "    \n",
    "    return pred\n",
    "\n",
    "\n",
    "def k_fract_predict_item(top):\n",
    "    flag = True\n",
    "    top_similar = np.zeros((n_products, top))\n",
    "    \n",
    "    for i in range(n_products):\n",
    "        products_sim = product_similarity[i]\n",
    "        top_sim_products = products_sim.argsort()[1:top + 1]\n",
    "\n",
    "        for j in range(top):\n",
    "            top_similar[i, j] = top_sim_products.T[j]\n",
    "            \n",
    "    abs_sim = np.abs(product_similarity)\n",
    "    pred = np.zeros((n_products, n_users))\n",
    "    \n",
    "    \n",
    "    for i in range(n_products):\n",
    "        indexes = top_similar[i].astype(np.int)\n",
    "        numerator = product_similarity[i][indexes]\n",
    "        \n",
    "        product = numerator.dot(train_data_matrix.T[indexes])\n",
    "        \n",
    "        denominator = abs_sim[i][indexes].sum()\n",
    "        denominator = denominator if denominator != 0 else 1\n",
    "        \n",
    "        pred[i] = product / denominator\n",
    "        \n",
    "    return pred.T\n",
    "\n",
    "\n",
    "k_predict = k_fract_predict(7)\n",
    "print('User-based CF RMSE: ', rmse(k_predict, test_data_matrix))\n",
    "\n",
    "k_predict_item = k_fract_predict_item(7)\n",
    "print('Item-based CF RMSE: ', rmse(k_predict_item, test_data_matrix))"
   ]
  },
  {
   "cell_type": "markdown",
   "metadata": {},
   "source": [
    "### Рекомендации на основе средних оценок пользователей и матрицы “похожести”"
   ]
  },
  {
   "cell_type": "code",
   "execution_count": 17,
   "metadata": {},
   "outputs": [
    {
     "name": "stderr",
     "output_type": "stream",
     "text": [
      "<ipython-input-17-392bbcbcc9a1>:18: RuntimeWarning:\n",
      "\n",
      "Mean of empty slice.\n",
      "\n",
      "/Users/bobon/miniconda3/envs/dev_env/lib/python3.8/site-packages/numpy/core/_methods.py:170: RuntimeWarning:\n",
      "\n",
      "invalid value encountered in double_scalars\n",
      "\n",
      "<ipython-input-17-392bbcbcc9a1>:23: RuntimeWarning:\n",
      "\n",
      "invalid value encountered in true_divide\n",
      "\n"
     ]
    },
    {
     "name": "stdout",
     "output_type": "stream",
     "text": [
      "User-based CF RMSE:  1.4809146677156997\n"
     ]
    },
    {
     "name": "stderr",
     "output_type": "stream",
     "text": [
      "<ipython-input-17-392bbcbcc9a1>:49: RuntimeWarning:\n",
      "\n",
      "Mean of empty slice.\n",
      "\n",
      "/Users/bobon/miniconda3/envs/dev_env/lib/python3.8/site-packages/numpy/core/_methods.py:170: RuntimeWarning:\n",
      "\n",
      "invalid value encountered in double_scalars\n",
      "\n"
     ]
    },
    {
     "name": "stdout",
     "output_type": "stream",
     "text": [
      "Item-based CF RMSE:  1.290638814108221\n"
     ]
    }
   ],
   "source": [
    "def k_fract_mean_predict(top):\n",
    "    top_similar = np.zeros((n_users, top))\n",
    "    \n",
    "    for i in range(n_users):\n",
    "        user_sim = user_similarity[i]\n",
    "        top_sim_users = user_sim.argsort()[1:top + 1]\n",
    "\n",
    "        for j in range(top):\n",
    "            top_similar[i, j] = top_sim_users[j]\n",
    "            \n",
    "    abs_sim = np.abs(user_similarity)\n",
    "    pred = np.zeros((n_users, n_products))\n",
    "    \n",
    "    for i in range(n_users):\n",
    "        indexes = top_similar[i].astype(np.int)\n",
    "        numerator = user_similarity[i][indexes]\n",
    "        \n",
    "        mean_rating = np.array([x for x in train_data_matrix[i] if x > 0]).mean()\n",
    "        diff_ratings = train_data_matrix[indexes] - train_data_matrix[indexes].mean()\n",
    "        numerator = numerator.dot(diff_ratings)\n",
    "        denominator = abs_sim[i][top_similar[i].astype(np.int)].sum()\n",
    "        \n",
    "        pred[i] = mean_rating + numerator / denominator\n",
    "        \n",
    "    return pred\n",
    "\n",
    "def k_fract_mean_predict_item(top):\n",
    "    top_similar = np.zeros((n_products, top))\n",
    "    \n",
    "    for i in range(n_products):\n",
    "        movie_sim = product_similarity[i]\n",
    "        top_sim_products = movie_sim.argsort()[1:top + 1]\n",
    "        \n",
    "        for j in range(top):\n",
    "            top_similar[i, j] = top_sim_products[j]\n",
    "    \n",
    "    abs_sim = np.abs(product_similarity)\n",
    "    pred = np.zeros((n_products, n_users))\n",
    "    \n",
    "    for i in range(n_products):\n",
    "        indexes = top_similar[i].astype(np.int)\n",
    "        numerator = product_similarity[i][indexes]\n",
    "        \n",
    "        diff_ratings = train_data_matrix.T[indexes] - train_data_matrix.T[indexes].mean()\n",
    "        numerator = numerator.dot(diff_ratings)\n",
    "        denominator = abs_sim[i][top_similar[i].astype(np.int)].sum()\n",
    "        denominator = denominator if denominator != 0 else 1\n",
    "        \n",
    "        mean_rating = np.array([x for x in train_data_matrix.T[i] if x > 0]).mean()\n",
    "        mean_rating = 0 if np.isnan(mean_rating) else mean_rating\n",
    "        pred[i] = mean_rating + numerator / denominator\n",
    "                \n",
    "    return pred.T\n",
    "\n",
    "k_predict = k_fract_mean_predict(7)\n",
    "print('User-based CF RMSE: ', rmse(k_predict, test_data_matrix))\n",
    "\n",
    "k_predict_item = k_fract_mean_predict_item(7)\n",
    "print('Item-based CF RMSE: ', rmse(k_predict_item, test_data_matrix))"
   ]
  },
  {
   "cell_type": "markdown",
   "metadata": {},
   "source": [
    "Делаем вывод что Рекомендации на основе средних оценок пользователей и матрицы “похожести” в нашем случае работают лучше всего"
   ]
  }
 ],
 "metadata": {
  "kernelspec": {
   "display_name": "Python 3",
   "language": "python",
   "name": "python3"
  },
  "language_info": {
   "codemirror_mode": {
    "name": "ipython",
    "version": 3
   },
   "file_extension": ".py",
   "mimetype": "text/x-python",
   "name": "python",
   "nbconvert_exporter": "python",
   "pygments_lexer": "ipython3",
   "version": "3.8.5"
  }
 },
 "nbformat": 4,
 "nbformat_minor": 4
}
